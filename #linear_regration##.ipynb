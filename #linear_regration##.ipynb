{
 "cells": [
  {
   "cell_type": "code",
   "execution_count": 79,
   "metadata": {},
   "outputs": [],
   "source": [
    "import os\n",
    "import numpy as np\n",
    "import pandas as pd \n",
    "import matplotlib.pyplot as plt\n",
    "import seaborn as sns\n",
    "from sklearn import metrics\n",
    "from sklearn.model_selection import train_test_split\n",
    "from sklearn.linear_model import LinearRegression\n",
    "from scipy.stats import shapiro\n",
    "import scipy.stats as sp"
   ]
  },
  {
   "cell_type": "code",
   "execution_count": 2,
   "metadata": {},
   "outputs": [],
   "source": [
    "os.chdir(r\"C:\\Users\\Jayant kr. Mishra\\Downloads\\Exam#Linear Regression using Python\")"
   ]
  },
  {
   "cell_type": "code",
   "execution_count": 3,
   "metadata": {},
   "outputs": [
    {
     "data": {
      "text/plain": [
       "['Fish_dataset.csv',\n",
       " 'Linear Regression using Python_Class Assessment.docx',\n",
       " 'Linear Regression using Python_Class Assessment.pdf']"
      ]
     },
     "execution_count": 3,
     "metadata": {},
     "output_type": "execute_result"
    }
   ],
   "source": [
    "os.listdir()"
   ]
  },
  {
   "cell_type": "code",
   "execution_count": 4,
   "metadata": {},
   "outputs": [],
   "source": [
    "fish=pd.read_csv(\"Fish_dataset.csv\")"
   ]
  },
  {
   "cell_type": "code",
   "execution_count": 7,
   "metadata": {},
   "outputs": [
    {
     "data": {
      "text/html": [
       "<div>\n",
       "<style scoped>\n",
       "    .dataframe tbody tr th:only-of-type {\n",
       "        vertical-align: middle;\n",
       "    }\n",
       "\n",
       "    .dataframe tbody tr th {\n",
       "        vertical-align: top;\n",
       "    }\n",
       "\n",
       "    .dataframe thead th {\n",
       "        text-align: right;\n",
       "    }\n",
       "</style>\n",
       "<table border=\"1\" class=\"dataframe\">\n",
       "  <thead>\n",
       "    <tr style=\"text-align: right;\">\n",
       "      <th></th>\n",
       "      <th>Species</th>\n",
       "      <th>Weight</th>\n",
       "      <th>Length1</th>\n",
       "      <th>Length2</th>\n",
       "      <th>Length3</th>\n",
       "      <th>Height</th>\n",
       "      <th>Width</th>\n",
       "    </tr>\n",
       "  </thead>\n",
       "  <tbody>\n",
       "    <tr>\n",
       "      <th>0</th>\n",
       "      <td>Bream</td>\n",
       "      <td>242.0</td>\n",
       "      <td>23.2</td>\n",
       "      <td>25.4</td>\n",
       "      <td>30.0</td>\n",
       "      <td>11.5200</td>\n",
       "      <td>4.0200</td>\n",
       "    </tr>\n",
       "    <tr>\n",
       "      <th>1</th>\n",
       "      <td>Bream</td>\n",
       "      <td>290.0</td>\n",
       "      <td>24.0</td>\n",
       "      <td>26.3</td>\n",
       "      <td>31.2</td>\n",
       "      <td>12.4800</td>\n",
       "      <td>4.3056</td>\n",
       "    </tr>\n",
       "    <tr>\n",
       "      <th>2</th>\n",
       "      <td>Bream</td>\n",
       "      <td>340.0</td>\n",
       "      <td>23.9</td>\n",
       "      <td>26.5</td>\n",
       "      <td>31.1</td>\n",
       "      <td>12.3778</td>\n",
       "      <td>4.6961</td>\n",
       "    </tr>\n",
       "    <tr>\n",
       "      <th>3</th>\n",
       "      <td>Bream</td>\n",
       "      <td>363.0</td>\n",
       "      <td>26.3</td>\n",
       "      <td>29.0</td>\n",
       "      <td>33.5</td>\n",
       "      <td>12.7300</td>\n",
       "      <td>4.4555</td>\n",
       "    </tr>\n",
       "    <tr>\n",
       "      <th>4</th>\n",
       "      <td>Bream</td>\n",
       "      <td>430.0</td>\n",
       "      <td>26.5</td>\n",
       "      <td>29.0</td>\n",
       "      <td>34.0</td>\n",
       "      <td>12.4440</td>\n",
       "      <td>5.1340</td>\n",
       "    </tr>\n",
       "    <tr>\n",
       "      <th>5</th>\n",
       "      <td>Bream</td>\n",
       "      <td>450.0</td>\n",
       "      <td>26.8</td>\n",
       "      <td>29.7</td>\n",
       "      <td>34.7</td>\n",
       "      <td>13.6024</td>\n",
       "      <td>4.9274</td>\n",
       "    </tr>\n",
       "    <tr>\n",
       "      <th>6</th>\n",
       "      <td>Bream</td>\n",
       "      <td>500.0</td>\n",
       "      <td>26.8</td>\n",
       "      <td>29.7</td>\n",
       "      <td>34.5</td>\n",
       "      <td>14.1795</td>\n",
       "      <td>5.2785</td>\n",
       "    </tr>\n",
       "    <tr>\n",
       "      <th>7</th>\n",
       "      <td>Bream</td>\n",
       "      <td>390.0</td>\n",
       "      <td>27.6</td>\n",
       "      <td>30.0</td>\n",
       "      <td>35.0</td>\n",
       "      <td>12.6700</td>\n",
       "      <td>4.6900</td>\n",
       "    </tr>\n",
       "    <tr>\n",
       "      <th>8</th>\n",
       "      <td>Bream</td>\n",
       "      <td>450.0</td>\n",
       "      <td>27.6</td>\n",
       "      <td>30.0</td>\n",
       "      <td>35.1</td>\n",
       "      <td>14.0049</td>\n",
       "      <td>4.8438</td>\n",
       "    </tr>\n",
       "    <tr>\n",
       "      <th>9</th>\n",
       "      <td>Bream</td>\n",
       "      <td>500.0</td>\n",
       "      <td>28.5</td>\n",
       "      <td>30.7</td>\n",
       "      <td>36.2</td>\n",
       "      <td>14.2266</td>\n",
       "      <td>4.9594</td>\n",
       "    </tr>\n",
       "  </tbody>\n",
       "</table>\n",
       "</div>"
      ],
      "text/plain": [
       "  Species  Weight  Length1  Length2  Length3   Height   Width\n",
       "0   Bream   242.0     23.2     25.4     30.0  11.5200  4.0200\n",
       "1   Bream   290.0     24.0     26.3     31.2  12.4800  4.3056\n",
       "2   Bream   340.0     23.9     26.5     31.1  12.3778  4.6961\n",
       "3   Bream   363.0     26.3     29.0     33.5  12.7300  4.4555\n",
       "4   Bream   430.0     26.5     29.0     34.0  12.4440  5.1340\n",
       "5   Bream   450.0     26.8     29.7     34.7  13.6024  4.9274\n",
       "6   Bream   500.0     26.8     29.7     34.5  14.1795  5.2785\n",
       "7   Bream   390.0     27.6     30.0     35.0  12.6700  4.6900\n",
       "8   Bream   450.0     27.6     30.0     35.1  14.0049  4.8438\n",
       "9   Bream   500.0     28.5     30.7     36.2  14.2266  4.9594"
      ]
     },
     "execution_count": 7,
     "metadata": {},
     "output_type": "execute_result"
    }
   ],
   "source": [
    "fish.head(10)"
   ]
  },
  {
   "cell_type": "code",
   "execution_count": 8,
   "metadata": {},
   "outputs": [
    {
     "data": {
      "text/html": [
       "<div>\n",
       "<style scoped>\n",
       "    .dataframe tbody tr th:only-of-type {\n",
       "        vertical-align: middle;\n",
       "    }\n",
       "\n",
       "    .dataframe tbody tr th {\n",
       "        vertical-align: top;\n",
       "    }\n",
       "\n",
       "    .dataframe thead th {\n",
       "        text-align: right;\n",
       "    }\n",
       "</style>\n",
       "<table border=\"1\" class=\"dataframe\">\n",
       "  <thead>\n",
       "    <tr style=\"text-align: right;\">\n",
       "      <th></th>\n",
       "      <th>Species</th>\n",
       "      <th>Weight</th>\n",
       "      <th>Length1</th>\n",
       "      <th>Length2</th>\n",
       "      <th>Length3</th>\n",
       "      <th>Height</th>\n",
       "      <th>Width</th>\n",
       "    </tr>\n",
       "  </thead>\n",
       "  <tbody>\n",
       "    <tr>\n",
       "      <th>154</th>\n",
       "      <td>Smelt</td>\n",
       "      <td>12.2</td>\n",
       "      <td>11.5</td>\n",
       "      <td>12.2</td>\n",
       "      <td>13.4</td>\n",
       "      <td>2.0904</td>\n",
       "      <td>1.3936</td>\n",
       "    </tr>\n",
       "    <tr>\n",
       "      <th>155</th>\n",
       "      <td>Smelt</td>\n",
       "      <td>13.4</td>\n",
       "      <td>11.7</td>\n",
       "      <td>12.4</td>\n",
       "      <td>13.5</td>\n",
       "      <td>2.4300</td>\n",
       "      <td>1.2690</td>\n",
       "    </tr>\n",
       "    <tr>\n",
       "      <th>156</th>\n",
       "      <td>Smelt</td>\n",
       "      <td>12.2</td>\n",
       "      <td>12.1</td>\n",
       "      <td>13.0</td>\n",
       "      <td>13.8</td>\n",
       "      <td>2.2770</td>\n",
       "      <td>1.2558</td>\n",
       "    </tr>\n",
       "    <tr>\n",
       "      <th>157</th>\n",
       "      <td>Smelt</td>\n",
       "      <td>19.7</td>\n",
       "      <td>13.2</td>\n",
       "      <td>14.3</td>\n",
       "      <td>15.2</td>\n",
       "      <td>2.8728</td>\n",
       "      <td>2.0672</td>\n",
       "    </tr>\n",
       "    <tr>\n",
       "      <th>158</th>\n",
       "      <td>Smelt</td>\n",
       "      <td>19.9</td>\n",
       "      <td>13.8</td>\n",
       "      <td>15.0</td>\n",
       "      <td>16.2</td>\n",
       "      <td>2.9322</td>\n",
       "      <td>1.8792</td>\n",
       "    </tr>\n",
       "  </tbody>\n",
       "</table>\n",
       "</div>"
      ],
      "text/plain": [
       "    Species  Weight  Length1  Length2  Length3  Height   Width\n",
       "154   Smelt    12.2     11.5     12.2     13.4  2.0904  1.3936\n",
       "155   Smelt    13.4     11.7     12.4     13.5  2.4300  1.2690\n",
       "156   Smelt    12.2     12.1     13.0     13.8  2.2770  1.2558\n",
       "157   Smelt    19.7     13.2     14.3     15.2  2.8728  2.0672\n",
       "158   Smelt    19.9     13.8     15.0     16.2  2.9322  1.8792"
      ]
     },
     "execution_count": 8,
     "metadata": {},
     "output_type": "execute_result"
    }
   ],
   "source": [
    "fish.tail(5)"
   ]
  },
  {
   "cell_type": "code",
   "execution_count": 9,
   "metadata": {},
   "outputs": [
    {
     "data": {
      "text/plain": [
       "Index(['Species', 'Weight', 'Length1', 'Length2', 'Length3', 'Height',\n",
       "       'Width'],\n",
       "      dtype='object')"
      ]
     },
     "execution_count": 9,
     "metadata": {},
     "output_type": "execute_result"
    }
   ],
   "source": [
    "fish.columns"
   ]
  },
  {
   "cell_type": "code",
   "execution_count": 10,
   "metadata": {},
   "outputs": [
    {
     "name": "stdout",
     "output_type": "stream",
     "text": [
      "<class 'pandas.core.frame.DataFrame'>\n",
      "RangeIndex: 159 entries, 0 to 158\n",
      "Data columns (total 7 columns):\n",
      " #   Column   Non-Null Count  Dtype  \n",
      "---  ------   --------------  -----  \n",
      " 0   Species  159 non-null    object \n",
      " 1   Weight   159 non-null    float64\n",
      " 2   Length1  159 non-null    float64\n",
      " 3   Length2  159 non-null    float64\n",
      " 4   Length3  159 non-null    float64\n",
      " 5   Height   159 non-null    float64\n",
      " 6   Width    159 non-null    float64\n",
      "dtypes: float64(6), object(1)\n",
      "memory usage: 8.8+ KB\n"
     ]
    }
   ],
   "source": [
    "fish.info()"
   ]
  },
  {
   "cell_type": "code",
   "execution_count": null,
   "metadata": {},
   "outputs": [],
   "source": []
  },
  {
   "cell_type": "code",
   "execution_count": null,
   "metadata": {},
   "outputs": [],
   "source": [
    "#Univariate Analysis"
   ]
  },
  {
   "cell_type": "code",
   "execution_count": 15,
   "metadata": {},
   "outputs": [
    {
     "data": {
      "text/plain": [
       "(159, 7)"
      ]
     },
     "execution_count": 15,
     "metadata": {},
     "output_type": "execute_result"
    }
   ],
   "source": [
    "fish.shape"
   ]
  },
  {
   "cell_type": "code",
   "execution_count": 11,
   "metadata": {},
   "outputs": [
    {
     "data": {
      "text/plain": [
       "Species     object\n",
       "Weight     float64\n",
       "Length1    float64\n",
       "Length2    float64\n",
       "Length3    float64\n",
       "Height     float64\n",
       "Width      float64\n",
       "dtype: object"
      ]
     },
     "execution_count": 11,
     "metadata": {},
     "output_type": "execute_result"
    }
   ],
   "source": [
    "fish.dtypes"
   ]
  },
  {
   "cell_type": "code",
   "execution_count": 12,
   "metadata": {},
   "outputs": [
    {
     "data": {
      "text/html": [
       "<div>\n",
       "<style scoped>\n",
       "    .dataframe tbody tr th:only-of-type {\n",
       "        vertical-align: middle;\n",
       "    }\n",
       "\n",
       "    .dataframe tbody tr th {\n",
       "        vertical-align: top;\n",
       "    }\n",
       "\n",
       "    .dataframe thead th {\n",
       "        text-align: right;\n",
       "    }\n",
       "</style>\n",
       "<table border=\"1\" class=\"dataframe\">\n",
       "  <thead>\n",
       "    <tr style=\"text-align: right;\">\n",
       "      <th></th>\n",
       "      <th>Weight</th>\n",
       "      <th>Length1</th>\n",
       "      <th>Length2</th>\n",
       "      <th>Length3</th>\n",
       "      <th>Height</th>\n",
       "      <th>Width</th>\n",
       "    </tr>\n",
       "  </thead>\n",
       "  <tbody>\n",
       "    <tr>\n",
       "      <th>count</th>\n",
       "      <td>159.000000</td>\n",
       "      <td>159.000000</td>\n",
       "      <td>159.000000</td>\n",
       "      <td>159.000000</td>\n",
       "      <td>159.000000</td>\n",
       "      <td>159.000000</td>\n",
       "    </tr>\n",
       "    <tr>\n",
       "      <th>mean</th>\n",
       "      <td>398.326415</td>\n",
       "      <td>26.247170</td>\n",
       "      <td>28.415723</td>\n",
       "      <td>31.227044</td>\n",
       "      <td>8.970994</td>\n",
       "      <td>4.417486</td>\n",
       "    </tr>\n",
       "    <tr>\n",
       "      <th>std</th>\n",
       "      <td>357.978317</td>\n",
       "      <td>9.996441</td>\n",
       "      <td>10.716328</td>\n",
       "      <td>11.610246</td>\n",
       "      <td>4.286208</td>\n",
       "      <td>1.685804</td>\n",
       "    </tr>\n",
       "    <tr>\n",
       "      <th>min</th>\n",
       "      <td>0.000000</td>\n",
       "      <td>7.500000</td>\n",
       "      <td>8.400000</td>\n",
       "      <td>8.800000</td>\n",
       "      <td>1.728400</td>\n",
       "      <td>1.047600</td>\n",
       "    </tr>\n",
       "    <tr>\n",
       "      <th>25%</th>\n",
       "      <td>120.000000</td>\n",
       "      <td>19.050000</td>\n",
       "      <td>21.000000</td>\n",
       "      <td>23.150000</td>\n",
       "      <td>5.944800</td>\n",
       "      <td>3.385650</td>\n",
       "    </tr>\n",
       "    <tr>\n",
       "      <th>50%</th>\n",
       "      <td>273.000000</td>\n",
       "      <td>25.200000</td>\n",
       "      <td>27.300000</td>\n",
       "      <td>29.400000</td>\n",
       "      <td>7.786000</td>\n",
       "      <td>4.248500</td>\n",
       "    </tr>\n",
       "    <tr>\n",
       "      <th>75%</th>\n",
       "      <td>650.000000</td>\n",
       "      <td>32.700000</td>\n",
       "      <td>35.500000</td>\n",
       "      <td>39.650000</td>\n",
       "      <td>12.365900</td>\n",
       "      <td>5.584500</td>\n",
       "    </tr>\n",
       "    <tr>\n",
       "      <th>max</th>\n",
       "      <td>1650.000000</td>\n",
       "      <td>59.000000</td>\n",
       "      <td>63.400000</td>\n",
       "      <td>68.000000</td>\n",
       "      <td>18.957000</td>\n",
       "      <td>8.142000</td>\n",
       "    </tr>\n",
       "  </tbody>\n",
       "</table>\n",
       "</div>"
      ],
      "text/plain": [
       "            Weight     Length1     Length2     Length3      Height       Width\n",
       "count   159.000000  159.000000  159.000000  159.000000  159.000000  159.000000\n",
       "mean    398.326415   26.247170   28.415723   31.227044    8.970994    4.417486\n",
       "std     357.978317    9.996441   10.716328   11.610246    4.286208    1.685804\n",
       "min       0.000000    7.500000    8.400000    8.800000    1.728400    1.047600\n",
       "25%     120.000000   19.050000   21.000000   23.150000    5.944800    3.385650\n",
       "50%     273.000000   25.200000   27.300000   29.400000    7.786000    4.248500\n",
       "75%     650.000000   32.700000   35.500000   39.650000   12.365900    5.584500\n",
       "max    1650.000000   59.000000   63.400000   68.000000   18.957000    8.142000"
      ]
     },
     "execution_count": 12,
     "metadata": {},
     "output_type": "execute_result"
    }
   ],
   "source": [
    "fish.describe()"
   ]
  },
  {
   "cell_type": "code",
   "execution_count": null,
   "metadata": {},
   "outputs": [],
   "source": [
    "#x~x\n",
    "#X~Y"
   ]
  },
  {
   "cell_type": "code",
   "execution_count": 13,
   "metadata": {},
   "outputs": [
    {
     "data": {
      "text/plain": [
       "count       159\n",
       "unique        7\n",
       "top       Perch\n",
       "freq         56\n",
       "Name: Species, dtype: object"
      ]
     },
     "execution_count": 13,
     "metadata": {},
     "output_type": "execute_result"
    }
   ],
   "source": [
    "fish[\"Species\"].describe()"
   ]
  },
  {
   "cell_type": "code",
   "execution_count": 14,
   "metadata": {},
   "outputs": [
    {
     "data": {
      "text/plain": [
       "Perch        56\n",
       "Bream        35\n",
       "Roach        20\n",
       "Pike         17\n",
       "Smelt        14\n",
       "Parkki       11\n",
       "Whitefish     6\n",
       "Name: Species, dtype: int64"
      ]
     },
     "execution_count": 14,
     "metadata": {},
     "output_type": "execute_result"
    }
   ],
   "source": [
    "fish[\"Species\"].value_counts()"
   ]
  },
  {
   "cell_type": "code",
   "execution_count": 35,
   "metadata": {},
   "outputs": [
    {
     "data": {
      "image/png": "[encoded data removed]",
      "text/plain": [
       "<Figure size 576x432 with 1 Axes>"
      ]
     },
     "metadata": {
      "needs_background": "light"
     },
     "output_type": "display_data"
    }
   ],
   "source": [
    "fish[\"Species\"].value_counts().plot(kind=\"bar\",figsize=(8,6),title =\"Fish type\")\n",
    "plt.show()\n"
   ]
  },
  {
   "cell_type": "code",
   "execution_count": null,
   "metadata": {},
   "outputs": [],
   "source": []
  },
  {
   "cell_type": "code",
   "execution_count": 19,
   "metadata": {},
   "outputs": [
    {
     "data": {
      "image/png": "[encoded data removed]",
      "text/plain": [
       "<Figure size 432x288 with 1 Axes>"
      ]
     },
     "metadata": {},
     "output_type": "display_data"
    }
   ],
   "source": [
    "fish[\"Species\"].value_counts().plot(kind=\"pie\")\n",
    "plt.show()"
   ]
  },
  {
   "cell_type": "code",
   "execution_count": 25,
   "metadata": {},
   "outputs": [
    {
     "data": {
      "text/plain": [
       "(array([59., 31., 12., 18., 16., 11.,  8.,  1.,  0.,  3.]),\n",
       " array([   0.,  165.,  330.,  495.,  660.,  825.,  990., 1155., 1320.,\n",
       "        1485., 1650.]),\n",
       " <a list of 10 Patch objects>)"
      ]
     },
     "execution_count": 25,
     "metadata": {},
     "output_type": "execute_result"
    },
    {
     "data": {
      "image/png": "[encoded data removed]",
      "text/plain": [
       "<Figure size 432x288 with 1 Axes>"
      ]
     },
     "metadata": {
      "needs_background": "light"
     },
     "output_type": "display_data"
    }
   ],
   "source": [
    "plt.hist(fish.Weight)"
   ]
  },
  {
   "cell_type": "code",
   "execution_count": 26,
   "metadata": {},
   "outputs": [
    {
     "data": {
      "text/plain": [
       "[<matplotlib.lines.Line2D at 0xc3c2288>]"
      ]
     },
     "execution_count": 26,
     "metadata": {},
     "output_type": "execute_result"
    },
    {
     "data": {
      "image/png": "[encoded data removed]",
      "text/plain": [
       "<Figure size 432x288 with 1 Axes>"
      ]
     },
     "metadata": {
      "needs_background": "light"
     },
     "output_type": "display_data"
    }
   ],
   "source": [
    "plt.plot(fish.Weight)"
   ]
  },
  {
   "cell_type": "code",
   "execution_count": 40,
   "metadata": {},
   "outputs": [
    {
     "data": {
      "text/html": [
       "<div>\n",
       "<style scoped>\n",
       "    .dataframe tbody tr th:only-of-type {\n",
       "        vertical-align: middle;\n",
       "    }\n",
       "\n",
       "    .dataframe tbody tr th {\n",
       "        vertical-align: top;\n",
       "    }\n",
       "\n",
       "    .dataframe thead th {\n",
       "        text-align: right;\n",
       "    }\n",
       "</style>\n",
       "<table border=\"1\" class=\"dataframe\">\n",
       "  <thead>\n",
       "    <tr style=\"text-align: right;\">\n",
       "      <th></th>\n",
       "      <th>Weight</th>\n",
       "      <th>Length1</th>\n",
       "      <th>Length2</th>\n",
       "      <th>Length3</th>\n",
       "      <th>Height</th>\n",
       "      <th>Width</th>\n",
       "    </tr>\n",
       "  </thead>\n",
       "  <tbody>\n",
       "    <tr>\n",
       "      <th>Weight</th>\n",
       "      <td>1.000000</td>\n",
       "      <td>0.915712</td>\n",
       "      <td>0.918618</td>\n",
       "      <td>0.923044</td>\n",
       "      <td>0.724345</td>\n",
       "      <td>0.886507</td>\n",
       "    </tr>\n",
       "    <tr>\n",
       "      <th>Length1</th>\n",
       "      <td>0.915712</td>\n",
       "      <td>1.000000</td>\n",
       "      <td>0.999517</td>\n",
       "      <td>0.992031</td>\n",
       "      <td>0.625378</td>\n",
       "      <td>0.867050</td>\n",
       "    </tr>\n",
       "    <tr>\n",
       "      <th>Length2</th>\n",
       "      <td>0.918618</td>\n",
       "      <td>0.999517</td>\n",
       "      <td>1.000000</td>\n",
       "      <td>0.994103</td>\n",
       "      <td>0.640441</td>\n",
       "      <td>0.873547</td>\n",
       "    </tr>\n",
       "    <tr>\n",
       "      <th>Length3</th>\n",
       "      <td>0.923044</td>\n",
       "      <td>0.992031</td>\n",
       "      <td>0.994103</td>\n",
       "      <td>1.000000</td>\n",
       "      <td>0.703409</td>\n",
       "      <td>0.878520</td>\n",
       "    </tr>\n",
       "    <tr>\n",
       "      <th>Height</th>\n",
       "      <td>0.724345</td>\n",
       "      <td>0.625378</td>\n",
       "      <td>0.640441</td>\n",
       "      <td>0.703409</td>\n",
       "      <td>1.000000</td>\n",
       "      <td>0.792881</td>\n",
       "    </tr>\n",
       "    <tr>\n",
       "      <th>Width</th>\n",
       "      <td>0.886507</td>\n",
       "      <td>0.867050</td>\n",
       "      <td>0.873547</td>\n",
       "      <td>0.878520</td>\n",
       "      <td>0.792881</td>\n",
       "      <td>1.000000</td>\n",
       "    </tr>\n",
       "  </tbody>\n",
       "</table>\n",
       "</div>"
      ],
      "text/plain": [
       "           Weight   Length1   Length2   Length3    Height     Width\n",
       "Weight   1.000000  0.915712  0.918618  0.923044  0.724345  0.886507\n",
       "Length1  0.915712  1.000000  0.999517  0.992031  0.625378  0.867050\n",
       "Length2  0.918618  0.999517  1.000000  0.994103  0.640441  0.873547\n",
       "Length3  0.923044  0.992031  0.994103  1.000000  0.703409  0.878520\n",
       "Height   0.724345  0.625378  0.640441  0.703409  1.000000  0.792881\n",
       "Width    0.886507  0.867050  0.873547  0.878520  0.792881  1.000000"
      ]
     },
     "execution_count": 40,
     "metadata": {},
     "output_type": "execute_result"
    }
   ],
   "source": [
    "fish.corr()"
   ]
  },
  {
   "cell_type": "code",
   "execution_count": 27,
   "metadata": {},
   "outputs": [
    {
     "data": {
      "text/plain": [
       "Index(['Species', 'Weight', 'Length1', 'Length2', 'Length3', 'Height',\n",
       "       'Width'],\n",
       "      dtype='object')"
      ]
     },
     "execution_count": 27,
     "metadata": {},
     "output_type": "execute_result"
    }
   ],
   "source": [
    "fish.columns"
   ]
  },
  {
   "cell_type": "code",
   "execution_count": 31,
   "metadata": {},
   "outputs": [
    {
     "data": {
      "text/html": [
       "<div>\n",
       "<style scoped>\n",
       "    .dataframe tbody tr th:only-of-type {\n",
       "        vertical-align: middle;\n",
       "    }\n",
       "\n",
       "    .dataframe tbody tr th {\n",
       "        vertical-align: top;\n",
       "    }\n",
       "\n",
       "    .dataframe thead th {\n",
       "        text-align: right;\n",
       "    }\n",
       "</style>\n",
       "<table border=\"1\" class=\"dataframe\">\n",
       "  <thead>\n",
       "    <tr style=\"text-align: right;\">\n",
       "      <th></th>\n",
       "      <th>Weight</th>\n",
       "      <th>Height</th>\n",
       "    </tr>\n",
       "  </thead>\n",
       "  <tbody>\n",
       "    <tr>\n",
       "      <th>Weight</th>\n",
       "      <td>1.000000</td>\n",
       "      <td>0.724345</td>\n",
       "    </tr>\n",
       "    <tr>\n",
       "      <th>Height</th>\n",
       "      <td>0.724345</td>\n",
       "      <td>1.000000</td>\n",
       "    </tr>\n",
       "  </tbody>\n",
       "</table>\n",
       "</div>"
      ],
      "text/plain": [
       "          Weight    Height\n",
       "Weight  1.000000  0.724345\n",
       "Height  0.724345  1.000000"
      ]
     },
     "execution_count": 31,
     "metadata": {},
     "output_type": "execute_result"
    }
   ],
   "source": [
    "fish[[\"Weight\",\"Height\"]].corr()"
   ]
  },
  {
   "cell_type": "code",
   "execution_count": 38,
   "metadata": {},
   "outputs": [
    {
     "data": {
      "image/png": "[encoded data removed]",
      "text/plain": [
       "<Figure size 432x288 with 1 Axes>"
      ]
     },
     "metadata": {
      "needs_background": "light"
     },
     "output_type": "display_data"
    }
   ],
   "source": [
    "plt.scatter(fish[\"Weight\"],fish[\"Height\"])\n",
    "plt.xlabel(\"Weight\")\n",
    "plt.ylabel(\"Height\")\n",
    "plt.show()"
   ]
  },
  {
   "cell_type": "code",
   "execution_count": 41,
   "metadata": {},
   "outputs": [
    {
     "data": {
      "image/png": "[encoded data removed]",
      "text/plain": [
       "<Figure size 432x288 with 1 Axes>"
      ]
     },
     "metadata": {
      "needs_background": "light"
     },
     "output_type": "display_data"
    }
   ],
   "source": [
    "plt.scatter(fish[\"Weight\"],fish[\"Length1\"])\n",
    "plt.xlabel(\"Weight\")\n",
    "plt.ylabel(\"Length1\")\n",
    "plt.show()"
   ]
  },
  {
   "cell_type": "code",
   "execution_count": null,
   "metadata": {},
   "outputs": [],
   "source": []
  },
  {
   "cell_type": "code",
   "execution_count": 45,
   "metadata": {},
   "outputs": [
    {
     "data": {
      "text/html": [
       "<div>\n",
       "<style scoped>\n",
       "    .dataframe tbody tr th:only-of-type {\n",
       "        vertical-align: middle;\n",
       "    }\n",
       "\n",
       "    .dataframe tbody tr th {\n",
       "        vertical-align: top;\n",
       "    }\n",
       "\n",
       "    .dataframe thead tr th {\n",
       "        text-align: left;\n",
       "    }\n",
       "\n",
       "    .dataframe thead tr:last-of-type th {\n",
       "        text-align: right;\n",
       "    }\n",
       "</style>\n",
       "<table border=\"1\" class=\"dataframe\">\n",
       "  <thead>\n",
       "    <tr>\n",
       "      <th></th>\n",
       "      <th colspan=\"4\" halign=\"left\">Length1</th>\n",
       "      <th colspan=\"4\" halign=\"left\">Height</th>\n",
       "      <th colspan=\"4\" halign=\"left\">Weight</th>\n",
       "    </tr>\n",
       "    <tr>\n",
       "      <th></th>\n",
       "      <th>count</th>\n",
       "      <th>min</th>\n",
       "      <th>max</th>\n",
       "      <th>mean</th>\n",
       "      <th>count</th>\n",
       "      <th>min</th>\n",
       "      <th>max</th>\n",
       "      <th>mean</th>\n",
       "      <th>count</th>\n",
       "      <th>min</th>\n",
       "      <th>max</th>\n",
       "      <th>mean</th>\n",
       "    </tr>\n",
       "    <tr>\n",
       "      <th>Species</th>\n",
       "      <th></th>\n",
       "      <th></th>\n",
       "      <th></th>\n",
       "      <th></th>\n",
       "      <th></th>\n",
       "      <th></th>\n",
       "      <th></th>\n",
       "      <th></th>\n",
       "      <th></th>\n",
       "      <th></th>\n",
       "      <th></th>\n",
       "      <th></th>\n",
       "    </tr>\n",
       "  </thead>\n",
       "  <tbody>\n",
       "    <tr>\n",
       "      <th>Bream</th>\n",
       "      <td>35</td>\n",
       "      <td>23.2</td>\n",
       "      <td>38.0</td>\n",
       "      <td>30.305714</td>\n",
       "      <td>35</td>\n",
       "      <td>11.5200</td>\n",
       "      <td>18.9570</td>\n",
       "      <td>15.183211</td>\n",
       "      <td>35</td>\n",
       "      <td>242.0</td>\n",
       "      <td>1000.0</td>\n",
       "      <td>617.828571</td>\n",
       "    </tr>\n",
       "    <tr>\n",
       "      <th>Parkki</th>\n",
       "      <td>11</td>\n",
       "      <td>13.5</td>\n",
       "      <td>24.0</td>\n",
       "      <td>18.727273</td>\n",
       "      <td>11</td>\n",
       "      <td>6.5772</td>\n",
       "      <td>11.3680</td>\n",
       "      <td>8.962427</td>\n",
       "      <td>11</td>\n",
       "      <td>55.0</td>\n",
       "      <td>300.0</td>\n",
       "      <td>154.818182</td>\n",
       "    </tr>\n",
       "    <tr>\n",
       "      <th>Perch</th>\n",
       "      <td>56</td>\n",
       "      <td>7.5</td>\n",
       "      <td>41.1</td>\n",
       "      <td>25.735714</td>\n",
       "      <td>56</td>\n",
       "      <td>2.1120</td>\n",
       "      <td>12.8002</td>\n",
       "      <td>7.861870</td>\n",
       "      <td>56</td>\n",
       "      <td>5.9</td>\n",
       "      <td>1100.0</td>\n",
       "      <td>382.239286</td>\n",
       "    </tr>\n",
       "    <tr>\n",
       "      <th>Pike</th>\n",
       "      <td>17</td>\n",
       "      <td>30.0</td>\n",
       "      <td>59.0</td>\n",
       "      <td>42.476471</td>\n",
       "      <td>17</td>\n",
       "      <td>5.5680</td>\n",
       "      <td>10.8120</td>\n",
       "      <td>7.713771</td>\n",
       "      <td>17</td>\n",
       "      <td>200.0</td>\n",
       "      <td>1650.0</td>\n",
       "      <td>718.705882</td>\n",
       "    </tr>\n",
       "    <tr>\n",
       "      <th>Roach</th>\n",
       "      <td>20</td>\n",
       "      <td>12.9</td>\n",
       "      <td>29.5</td>\n",
       "      <td>20.645000</td>\n",
       "      <td>20</td>\n",
       "      <td>4.1472</td>\n",
       "      <td>9.4850</td>\n",
       "      <td>6.694795</td>\n",
       "      <td>20</td>\n",
       "      <td>0.0</td>\n",
       "      <td>390.0</td>\n",
       "      <td>152.050000</td>\n",
       "    </tr>\n",
       "    <tr>\n",
       "      <th>Smelt</th>\n",
       "      <td>14</td>\n",
       "      <td>9.3</td>\n",
       "      <td>13.8</td>\n",
       "      <td>11.257143</td>\n",
       "      <td>14</td>\n",
       "      <td>1.7284</td>\n",
       "      <td>2.9322</td>\n",
       "      <td>2.209371</td>\n",
       "      <td>14</td>\n",
       "      <td>6.7</td>\n",
       "      <td>19.9</td>\n",
       "      <td>11.178571</td>\n",
       "    </tr>\n",
       "    <tr>\n",
       "      <th>Whitefish</th>\n",
       "      <td>6</td>\n",
       "      <td>23.6</td>\n",
       "      <td>37.3</td>\n",
       "      <td>28.800000</td>\n",
       "      <td>6</td>\n",
       "      <td>8.1454</td>\n",
       "      <td>12.3540</td>\n",
       "      <td>10.027167</td>\n",
       "      <td>6</td>\n",
       "      <td>270.0</td>\n",
       "      <td>1000.0</td>\n",
       "      <td>531.000000</td>\n",
       "    </tr>\n",
       "  </tbody>\n",
       "</table>\n",
       "</div>"
      ],
      "text/plain": [
       "          Length1                        Height                               \\\n",
       "            count   min   max       mean  count      min      max       mean   \n",
       "Species                                                                        \n",
       "Bream          35  23.2  38.0  30.305714     35  11.5200  18.9570  15.183211   \n",
       "Parkki         11  13.5  24.0  18.727273     11   6.5772  11.3680   8.962427   \n",
       "Perch          56   7.5  41.1  25.735714     56   2.1120  12.8002   7.861870   \n",
       "Pike           17  30.0  59.0  42.476471     17   5.5680  10.8120   7.713771   \n",
       "Roach          20  12.9  29.5  20.645000     20   4.1472   9.4850   6.694795   \n",
       "Smelt          14   9.3  13.8  11.257143     14   1.7284   2.9322   2.209371   \n",
       "Whitefish       6  23.6  37.3  28.800000      6   8.1454  12.3540  10.027167   \n",
       "\n",
       "          Weight                             \n",
       "           count    min     max        mean  \n",
       "Species                                      \n",
       "Bream         35  242.0  1000.0  617.828571  \n",
       "Parkki        11   55.0   300.0  154.818182  \n",
       "Perch         56    5.9  1100.0  382.239286  \n",
       "Pike          17  200.0  1650.0  718.705882  \n",
       "Roach         20    0.0   390.0  152.050000  \n",
       "Smelt         14    6.7    19.9   11.178571  \n",
       "Whitefish      6  270.0  1000.0  531.000000  "
      ]
     },
     "execution_count": 45,
     "metadata": {},
     "output_type": "execute_result"
    }
   ],
   "source": [
    "fish.groupby([\"Species\"]).agg({\"Length1\":[\"count\",\"min\", \"max\", \"mean\"],\"Height\":[\"count\",\"min\", \"max\", \"mean\"],\"Weight\":[\"count\",\"min\", \"max\", \"mean\"]})"
   ]
  },
  {
   "cell_type": "code",
   "execution_count": 39,
   "metadata": {},
   "outputs": [
    {
     "data": {
      "text/plain": [
       "<seaborn.axisgrid.PairGrid at 0xce2e988>"
      ]
     },
     "execution_count": 39,
     "metadata": {},
     "output_type": "execute_result"
    },
    {
     "data": {
      "image/png": "[encoded data removed]",
      "text/plain": [
       "<Figure size 1080x1080 with 42 Axes>"
      ]
     },
     "metadata": {
      "needs_background": "light"
     },
     "output_type": "display_data"
    }
   ],
   "source": [
    "sns.pairplot(fish)"
   ]
  },
  {
   "cell_type": "code",
   "execution_count": 49,
   "metadata": {},
   "outputs": [],
   "source": [
    "#data types"
   ]
  },
  {
   "cell_type": "code",
   "execution_count": 50,
   "metadata": {},
   "outputs": [
    {
     "data": {
      "text/plain": [
       "Species     object\n",
       "Weight     float64\n",
       "Length1    float64\n",
       "Length2    float64\n",
       "Length3    float64\n",
       "Height     float64\n",
       "Width      float64\n",
       "dtype: object"
      ]
     },
     "execution_count": 50,
     "metadata": {},
     "output_type": "execute_result"
    }
   ],
   "source": [
    "fish.dtypes"
   ]
  },
  {
   "cell_type": "code",
   "execution_count": 51,
   "metadata": {},
   "outputs": [
    {
     "data": {
      "text/html": [
       "<div>\n",
       "<style scoped>\n",
       "    .dataframe tbody tr th:only-of-type {\n",
       "        vertical-align: middle;\n",
       "    }\n",
       "\n",
       "    .dataframe tbody tr th {\n",
       "        vertical-align: top;\n",
       "    }\n",
       "\n",
       "    .dataframe thead th {\n",
       "        text-align: right;\n",
       "    }\n",
       "</style>\n",
       "<table border=\"1\" class=\"dataframe\">\n",
       "  <thead>\n",
       "    <tr style=\"text-align: right;\">\n",
       "      <th></th>\n",
       "      <th>Weight</th>\n",
       "      <th>Length1</th>\n",
       "      <th>Length2</th>\n",
       "      <th>Length3</th>\n",
       "      <th>Height</th>\n",
       "      <th>Width</th>\n",
       "      <th>Species_Parkki</th>\n",
       "      <th>Species_Perch</th>\n",
       "      <th>Species_Pike</th>\n",
       "      <th>Species_Roach</th>\n",
       "      <th>Species_Smelt</th>\n",
       "      <th>Species_Whitefish</th>\n",
       "    </tr>\n",
       "  </thead>\n",
       "  <tbody>\n",
       "    <tr>\n",
       "      <th>0</th>\n",
       "      <td>242.0</td>\n",
       "      <td>23.2</td>\n",
       "      <td>25.4</td>\n",
       "      <td>30.0</td>\n",
       "      <td>11.5200</td>\n",
       "      <td>4.0200</td>\n",
       "      <td>0</td>\n",
       "      <td>0</td>\n",
       "      <td>0</td>\n",
       "      <td>0</td>\n",
       "      <td>0</td>\n",
       "      <td>0</td>\n",
       "    </tr>\n",
       "    <tr>\n",
       "      <th>1</th>\n",
       "      <td>290.0</td>\n",
       "      <td>24.0</td>\n",
       "      <td>26.3</td>\n",
       "      <td>31.2</td>\n",
       "      <td>12.4800</td>\n",
       "      <td>4.3056</td>\n",
       "      <td>0</td>\n",
       "      <td>0</td>\n",
       "      <td>0</td>\n",
       "      <td>0</td>\n",
       "      <td>0</td>\n",
       "      <td>0</td>\n",
       "    </tr>\n",
       "    <tr>\n",
       "      <th>2</th>\n",
       "      <td>340.0</td>\n",
       "      <td>23.9</td>\n",
       "      <td>26.5</td>\n",
       "      <td>31.1</td>\n",
       "      <td>12.3778</td>\n",
       "      <td>4.6961</td>\n",
       "      <td>0</td>\n",
       "      <td>0</td>\n",
       "      <td>0</td>\n",
       "      <td>0</td>\n",
       "      <td>0</td>\n",
       "      <td>0</td>\n",
       "    </tr>\n",
       "    <tr>\n",
       "      <th>3</th>\n",
       "      <td>363.0</td>\n",
       "      <td>26.3</td>\n",
       "      <td>29.0</td>\n",
       "      <td>33.5</td>\n",
       "      <td>12.7300</td>\n",
       "      <td>4.4555</td>\n",
       "      <td>0</td>\n",
       "      <td>0</td>\n",
       "      <td>0</td>\n",
       "      <td>0</td>\n",
       "      <td>0</td>\n",
       "      <td>0</td>\n",
       "    </tr>\n",
       "    <tr>\n",
       "      <th>4</th>\n",
       "      <td>430.0</td>\n",
       "      <td>26.5</td>\n",
       "      <td>29.0</td>\n",
       "      <td>34.0</td>\n",
       "      <td>12.4440</td>\n",
       "      <td>5.1340</td>\n",
       "      <td>0</td>\n",
       "      <td>0</td>\n",
       "      <td>0</td>\n",
       "      <td>0</td>\n",
       "      <td>0</td>\n",
       "      <td>0</td>\n",
       "    </tr>\n",
       "    <tr>\n",
       "      <th>...</th>\n",
       "      <td>...</td>\n",
       "      <td>...</td>\n",
       "      <td>...</td>\n",
       "      <td>...</td>\n",
       "      <td>...</td>\n",
       "      <td>...</td>\n",
       "      <td>...</td>\n",
       "      <td>...</td>\n",
       "      <td>...</td>\n",
       "      <td>...</td>\n",
       "      <td>...</td>\n",
       "      <td>...</td>\n",
       "    </tr>\n",
       "    <tr>\n",
       "      <th>154</th>\n",
       "      <td>12.2</td>\n",
       "      <td>11.5</td>\n",
       "      <td>12.2</td>\n",
       "      <td>13.4</td>\n",
       "      <td>2.0904</td>\n",
       "      <td>1.3936</td>\n",
       "      <td>0</td>\n",
       "      <td>0</td>\n",
       "      <td>0</td>\n",
       "      <td>0</td>\n",
       "      <td>1</td>\n",
       "      <td>0</td>\n",
       "    </tr>\n",
       "    <tr>\n",
       "      <th>155</th>\n",
       "      <td>13.4</td>\n",
       "      <td>11.7</td>\n",
       "      <td>12.4</td>\n",
       "      <td>13.5</td>\n",
       "      <td>2.4300</td>\n",
       "      <td>1.2690</td>\n",
       "      <td>0</td>\n",
       "      <td>0</td>\n",
       "      <td>0</td>\n",
       "      <td>0</td>\n",
       "      <td>1</td>\n",
       "      <td>0</td>\n",
       "    </tr>\n",
       "    <tr>\n",
       "      <th>156</th>\n",
       "      <td>12.2</td>\n",
       "      <td>12.1</td>\n",
       "      <td>13.0</td>\n",
       "      <td>13.8</td>\n",
       "      <td>2.2770</td>\n",
       "      <td>1.2558</td>\n",
       "      <td>0</td>\n",
       "      <td>0</td>\n",
       "      <td>0</td>\n",
       "      <td>0</td>\n",
       "      <td>1</td>\n",
       "      <td>0</td>\n",
       "    </tr>\n",
       "    <tr>\n",
       "      <th>157</th>\n",
       "      <td>19.7</td>\n",
       "      <td>13.2</td>\n",
       "      <td>14.3</td>\n",
       "      <td>15.2</td>\n",
       "      <td>2.8728</td>\n",
       "      <td>2.0672</td>\n",
       "      <td>0</td>\n",
       "      <td>0</td>\n",
       "      <td>0</td>\n",
       "      <td>0</td>\n",
       "      <td>1</td>\n",
       "      <td>0</td>\n",
       "    </tr>\n",
       "    <tr>\n",
       "      <th>158</th>\n",
       "      <td>19.9</td>\n",
       "      <td>13.8</td>\n",
       "      <td>15.0</td>\n",
       "      <td>16.2</td>\n",
       "      <td>2.9322</td>\n",
       "      <td>1.8792</td>\n",
       "      <td>0</td>\n",
       "      <td>0</td>\n",
       "      <td>0</td>\n",
       "      <td>0</td>\n",
       "      <td>1</td>\n",
       "      <td>0</td>\n",
       "    </tr>\n",
       "  </tbody>\n",
       "</table>\n",
       "<p>159 rows × 12 columns</p>\n",
       "</div>"
      ],
      "text/plain": [
       "     Weight  Length1  Length2  Length3   Height   Width  Species_Parkki  \\\n",
       "0     242.0     23.2     25.4     30.0  11.5200  4.0200               0   \n",
       "1     290.0     24.0     26.3     31.2  12.4800  4.3056               0   \n",
       "2     340.0     23.9     26.5     31.1  12.3778  4.6961               0   \n",
       "3     363.0     26.3     29.0     33.5  12.7300  4.4555               0   \n",
       "4     430.0     26.5     29.0     34.0  12.4440  5.1340               0   \n",
       "..      ...      ...      ...      ...      ...     ...             ...   \n",
       "154    12.2     11.5     12.2     13.4   2.0904  1.3936               0   \n",
       "155    13.4     11.7     12.4     13.5   2.4300  1.2690               0   \n",
       "156    12.2     12.1     13.0     13.8   2.2770  1.2558               0   \n",
       "157    19.7     13.2     14.3     15.2   2.8728  2.0672               0   \n",
       "158    19.9     13.8     15.0     16.2   2.9322  1.8792               0   \n",
       "\n",
       "     Species_Perch  Species_Pike  Species_Roach  Species_Smelt  \\\n",
       "0                0             0              0              0   \n",
       "1                0             0              0              0   \n",
       "2                0             0              0              0   \n",
       "3                0             0              0              0   \n",
       "4                0             0              0              0   \n",
       "..             ...           ...            ...            ...   \n",
       "154              0             0              0              1   \n",
       "155              0             0              0              1   \n",
       "156              0             0              0              1   \n",
       "157              0             0              0              1   \n",
       "158              0             0              0              1   \n",
       "\n",
       "     Species_Whitefish  \n",
       "0                    0  \n",
       "1                    0  \n",
       "2                    0  \n",
       "3                    0  \n",
       "4                    0  \n",
       "..                 ...  \n",
       "154                  0  \n",
       "155                  0  \n",
       "156                  0  \n",
       "157                  0  \n",
       "158                  0  \n",
       "\n",
       "[159 rows x 12 columns]"
      ]
     },
     "execution_count": 51,
     "metadata": {},
     "output_type": "execute_result"
    }
   ],
   "source": [
    "fish1=pd.get_dummies(fish,columns=[\"Species\"],drop_first=True)\n",
    "fish1"
   ]
  },
  {
   "cell_type": "code",
   "execution_count": 53,
   "metadata": {},
   "outputs": [
    {
     "data": {
      "text/plain": [
       "0    153\n",
       "1      6\n",
       "Name: Species_Whitefish, dtype: int64"
      ]
     },
     "execution_count": 53,
     "metadata": {},
     "output_type": "execute_result"
    }
   ],
   "source": [
    "fish1[\"Species_Whitefish\"].value_counts()"
   ]
  },
  {
   "cell_type": "code",
   "execution_count": 56,
   "metadata": {},
   "outputs": [
    {
     "data": {
      "text/plain": [
       "0    148\n",
       "1     11\n",
       "Name: Species_Parkki, dtype: int64"
      ]
     },
     "execution_count": 56,
     "metadata": {},
     "output_type": "execute_result"
    }
   ],
   "source": [
    "fish1[\"Species_Parkki\"].value_counts()"
   ]
  },
  {
   "cell_type": "code",
   "execution_count": 55,
   "metadata": {},
   "outputs": [
    {
     "data": {
      "text/plain": [
       "0    103\n",
       "1     56\n",
       "Name: Species_Perch, dtype: int64"
      ]
     },
     "execution_count": 55,
     "metadata": {},
     "output_type": "execute_result"
    }
   ],
   "source": [
    "fish1[\"Species_Perch\"].value_counts()"
   ]
  },
  {
   "cell_type": "code",
   "execution_count": null,
   "metadata": {},
   "outputs": [],
   "source": []
  },
  {
   "cell_type": "code",
   "execution_count": 47,
   "metadata": {},
   "outputs": [],
   "source": [
    "# Outlier and Missing Value Treatment"
   ]
  },
  {
   "cell_type": "code",
   "execution_count": 61,
   "metadata": {},
   "outputs": [
    {
     "data": {
      "text/plain": [
       "Weight               float64\n",
       "Length1              float64\n",
       "Length2              float64\n",
       "Length3              float64\n",
       "Height               float64\n",
       "Width                float64\n",
       "Species_Parkki         uint8\n",
       "Species_Perch          uint8\n",
       "Species_Pike           uint8\n",
       "Species_Roach          uint8\n",
       "Species_Smelt          uint8\n",
       "Species_Whitefish      uint8\n",
       "dtype: object"
      ]
     },
     "execution_count": 61,
     "metadata": {},
     "output_type": "execute_result"
    }
   ],
   "source": [
    "fish1.dtypes"
   ]
  },
  {
   "cell_type": "code",
   "execution_count": 58,
   "metadata": {},
   "outputs": [
    {
     "data": {
      "text/plain": [
       "(159, 12)"
      ]
     },
     "execution_count": 58,
     "metadata": {},
     "output_type": "execute_result"
    }
   ],
   "source": [
    "fish1.shape"
   ]
  },
  {
   "cell_type": "code",
   "execution_count": 60,
   "metadata": {},
   "outputs": [
    {
     "data": {
      "text/plain": [
       "Species_Whitefish    0\n",
       "Species_Smelt        0\n",
       "Species_Roach        0\n",
       "Species_Pike         0\n",
       "Species_Perch        0\n",
       "Species_Parkki       0\n",
       "Width                0\n",
       "Height               0\n",
       "Length3              0\n",
       "Length2              0\n",
       "Length1              0\n",
       "Weight               0\n",
       "dtype: int64"
      ]
     },
     "execution_count": 60,
     "metadata": {},
     "output_type": "execute_result"
    }
   ],
   "source": [
    "fish1.isnull().sum().sort_values(ascending=False) ## NO missing value"
   ]
  },
  {
   "cell_type": "code",
   "execution_count": null,
   "metadata": {},
   "outputs": [],
   "source": []
  },
  {
   "cell_type": "code",
   "execution_count": 63,
   "metadata": {},
   "outputs": [
    {
     "data": {
      "text/html": [
       "<div>\n",
       "<style scoped>\n",
       "    .dataframe tbody tr th:only-of-type {\n",
       "        vertical-align: middle;\n",
       "    }\n",
       "\n",
       "    .dataframe tbody tr th {\n",
       "        vertical-align: top;\n",
       "    }\n",
       "\n",
       "    .dataframe thead th {\n",
       "        text-align: right;\n",
       "    }\n",
       "</style>\n",
       "<table border=\"1\" class=\"dataframe\">\n",
       "  <thead>\n",
       "    <tr style=\"text-align: right;\">\n",
       "      <th></th>\n",
       "      <th>count</th>\n",
       "      <th>mean</th>\n",
       "      <th>std</th>\n",
       "      <th>min</th>\n",
       "      <th>1%</th>\n",
       "      <th>2%</th>\n",
       "      <th>3%</th>\n",
       "      <th>4%</th>\n",
       "      <th>5%</th>\n",
       "      <th>10%</th>\n",
       "      <th>...</th>\n",
       "      <th>25%</th>\n",
       "      <th>50%</th>\n",
       "      <th>75%</th>\n",
       "      <th>90%</th>\n",
       "      <th>95%</th>\n",
       "      <th>96%</th>\n",
       "      <th>97%</th>\n",
       "      <th>98%</th>\n",
       "      <th>99%</th>\n",
       "      <th>max</th>\n",
       "    </tr>\n",
       "  </thead>\n",
       "  <tbody>\n",
       "    <tr>\n",
       "      <th>Weight</th>\n",
       "      <td>159.0</td>\n",
       "      <td>398.326415</td>\n",
       "      <td>357.978317</td>\n",
       "      <td>0.0000</td>\n",
       "      <td>6.364000</td>\n",
       "      <td>7.080000</td>\n",
       "      <td>8.388000</td>\n",
       "      <td>9.732000</td>\n",
       "      <td>9.80000</td>\n",
       "      <td>29.58000</td>\n",
       "      <td>...</td>\n",
       "      <td>120.00000</td>\n",
       "      <td>273.0000</td>\n",
       "      <td>650.0000</td>\n",
       "      <td>930.0000</td>\n",
       "      <td>1000.00000</td>\n",
       "      <td>1010.200000</td>\n",
       "      <td>1100.000000</td>\n",
       "      <td>1226.000000</td>\n",
       "      <td>1571.000000</td>\n",
       "      <td>1650.000</td>\n",
       "    </tr>\n",
       "    <tr>\n",
       "      <th>Length1</th>\n",
       "      <td>159.0</td>\n",
       "      <td>26.247170</td>\n",
       "      <td>9.996441</td>\n",
       "      <td>7.5000</td>\n",
       "      <td>9.706000</td>\n",
       "      <td>10.148000</td>\n",
       "      <td>10.622000</td>\n",
       "      <td>10.960000</td>\n",
       "      <td>11.30000</td>\n",
       "      <td>13.44000</td>\n",
       "      <td>...</td>\n",
       "      <td>19.05000</td>\n",
       "      <td>25.2000</td>\n",
       "      <td>32.7000</td>\n",
       "      <td>38.2000</td>\n",
       "      <td>41.19000</td>\n",
       "      <td>42.816000</td>\n",
       "      <td>45.710000</td>\n",
       "      <td>51.408000</td>\n",
       "      <td>56.000000</td>\n",
       "      <td>59.000</td>\n",
       "    </tr>\n",
       "    <tr>\n",
       "      <th>Length2</th>\n",
       "      <td>159.0</td>\n",
       "      <td>28.415723</td>\n",
       "      <td>10.716328</td>\n",
       "      <td>8.4000</td>\n",
       "      <td>10.206000</td>\n",
       "      <td>10.664000</td>\n",
       "      <td>11.148000</td>\n",
       "      <td>11.460000</td>\n",
       "      <td>11.80000</td>\n",
       "      <td>14.62000</td>\n",
       "      <td>...</td>\n",
       "      <td>21.00000</td>\n",
       "      <td>27.3000</td>\n",
       "      <td>35.5000</td>\n",
       "      <td>41.2000</td>\n",
       "      <td>44.10000</td>\n",
       "      <td>45.680000</td>\n",
       "      <td>48.962000</td>\n",
       "      <td>55.312000</td>\n",
       "      <td>60.000000</td>\n",
       "      <td>63.400</td>\n",
       "    </tr>\n",
       "    <tr>\n",
       "      <th>Length3</th>\n",
       "      <td>159.0</td>\n",
       "      <td>31.227044</td>\n",
       "      <td>11.610246</td>\n",
       "      <td>8.8000</td>\n",
       "      <td>11.264000</td>\n",
       "      <td>11.664000</td>\n",
       "      <td>12.296000</td>\n",
       "      <td>12.760000</td>\n",
       "      <td>13.10000</td>\n",
       "      <td>16.16000</td>\n",
       "      <td>...</td>\n",
       "      <td>23.15000</td>\n",
       "      <td>29.4000</td>\n",
       "      <td>39.6500</td>\n",
       "      <td>45.3400</td>\n",
       "      <td>46.74000</td>\n",
       "      <td>48.476000</td>\n",
       "      <td>52.214000</td>\n",
       "      <td>58.964000</td>\n",
       "      <td>64.000000</td>\n",
       "      <td>68.000</td>\n",
       "    </tr>\n",
       "    <tr>\n",
       "      <th>Height</th>\n",
       "      <td>159.0</td>\n",
       "      <td>8.970994</td>\n",
       "      <td>4.286208</td>\n",
       "      <td>1.7284</td>\n",
       "      <td>1.874056</td>\n",
       "      <td>1.995000</td>\n",
       "      <td>2.088528</td>\n",
       "      <td>2.138880</td>\n",
       "      <td>2.20356</td>\n",
       "      <td>3.76480</td>\n",
       "      <td>...</td>\n",
       "      <td>5.94480</td>\n",
       "      <td>7.7860</td>\n",
       "      <td>12.3659</td>\n",
       "      <td>15.1904</td>\n",
       "      <td>16.37732</td>\n",
       "      <td>16.770368</td>\n",
       "      <td>17.730984</td>\n",
       "      <td>18.076464</td>\n",
       "      <td>18.685296</td>\n",
       "      <td>18.957</td>\n",
       "    </tr>\n",
       "    <tr>\n",
       "      <th>Width</th>\n",
       "      <td>159.0</td>\n",
       "      <td>4.417486</td>\n",
       "      <td>1.685804</td>\n",
       "      <td>1.0476</td>\n",
       "      <td>1.148400</td>\n",
       "      <td>1.160944</td>\n",
       "      <td>1.232426</td>\n",
       "      <td>1.271624</td>\n",
       "      <td>1.28314</td>\n",
       "      <td>2.22784</td>\n",
       "      <td>...</td>\n",
       "      <td>3.38565</td>\n",
       "      <td>4.2485</td>\n",
       "      <td>5.5845</td>\n",
       "      <td>6.7421</td>\n",
       "      <td>7.28462</td>\n",
       "      <td>7.395668</td>\n",
       "      <td>7.466976</td>\n",
       "      <td>7.491256</td>\n",
       "      <td>7.679758</td>\n",
       "      <td>8.142</td>\n",
       "    </tr>\n",
       "    <tr>\n",
       "      <th>Species_Parkki</th>\n",
       "      <td>159.0</td>\n",
       "      <td>0.069182</td>\n",
       "      <td>0.254566</td>\n",
       "      <td>0.0000</td>\n",
       "      <td>0.000000</td>\n",
       "      <td>0.000000</td>\n",
       "      <td>0.000000</td>\n",
       "      <td>0.000000</td>\n",
       "      <td>0.00000</td>\n",
       "      <td>0.00000</td>\n",
       "      <td>...</td>\n",
       "      <td>0.00000</td>\n",
       "      <td>0.0000</td>\n",
       "      <td>0.0000</td>\n",
       "      <td>0.0000</td>\n",
       "      <td>1.00000</td>\n",
       "      <td>1.000000</td>\n",
       "      <td>1.000000</td>\n",
       "      <td>1.000000</td>\n",
       "      <td>1.000000</td>\n",
       "      <td>1.000</td>\n",
       "    </tr>\n",
       "    <tr>\n",
       "      <th>Species_Perch</th>\n",
       "      <td>159.0</td>\n",
       "      <td>0.352201</td>\n",
       "      <td>0.479165</td>\n",
       "      <td>0.0000</td>\n",
       "      <td>0.000000</td>\n",
       "      <td>0.000000</td>\n",
       "      <td>0.000000</td>\n",
       "      <td>0.000000</td>\n",
       "      <td>0.00000</td>\n",
       "      <td>0.00000</td>\n",
       "      <td>...</td>\n",
       "      <td>0.00000</td>\n",
       "      <td>0.0000</td>\n",
       "      <td>1.0000</td>\n",
       "      <td>1.0000</td>\n",
       "      <td>1.00000</td>\n",
       "      <td>1.000000</td>\n",
       "      <td>1.000000</td>\n",
       "      <td>1.000000</td>\n",
       "      <td>1.000000</td>\n",
       "      <td>1.000</td>\n",
       "    </tr>\n",
       "    <tr>\n",
       "      <th>Species_Pike</th>\n",
       "      <td>159.0</td>\n",
       "      <td>0.106918</td>\n",
       "      <td>0.309986</td>\n",
       "      <td>0.0000</td>\n",
       "      <td>0.000000</td>\n",
       "      <td>0.000000</td>\n",
       "      <td>0.000000</td>\n",
       "      <td>0.000000</td>\n",
       "      <td>0.00000</td>\n",
       "      <td>0.00000</td>\n",
       "      <td>...</td>\n",
       "      <td>0.00000</td>\n",
       "      <td>0.0000</td>\n",
       "      <td>0.0000</td>\n",
       "      <td>1.0000</td>\n",
       "      <td>1.00000</td>\n",
       "      <td>1.000000</td>\n",
       "      <td>1.000000</td>\n",
       "      <td>1.000000</td>\n",
       "      <td>1.000000</td>\n",
       "      <td>1.000</td>\n",
       "    </tr>\n",
       "    <tr>\n",
       "      <th>Species_Roach</th>\n",
       "      <td>159.0</td>\n",
       "      <td>0.125786</td>\n",
       "      <td>0.332656</td>\n",
       "      <td>0.0000</td>\n",
       "      <td>0.000000</td>\n",
       "      <td>0.000000</td>\n",
       "      <td>0.000000</td>\n",
       "      <td>0.000000</td>\n",
       "      <td>0.00000</td>\n",
       "      <td>0.00000</td>\n",
       "      <td>...</td>\n",
       "      <td>0.00000</td>\n",
       "      <td>0.0000</td>\n",
       "      <td>0.0000</td>\n",
       "      <td>1.0000</td>\n",
       "      <td>1.00000</td>\n",
       "      <td>1.000000</td>\n",
       "      <td>1.000000</td>\n",
       "      <td>1.000000</td>\n",
       "      <td>1.000000</td>\n",
       "      <td>1.000</td>\n",
       "    </tr>\n",
       "    <tr>\n",
       "      <th>Species_Smelt</th>\n",
       "      <td>159.0</td>\n",
       "      <td>0.088050</td>\n",
       "      <td>0.284263</td>\n",
       "      <td>0.0000</td>\n",
       "      <td>0.000000</td>\n",
       "      <td>0.000000</td>\n",
       "      <td>0.000000</td>\n",
       "      <td>0.000000</td>\n",
       "      <td>0.00000</td>\n",
       "      <td>0.00000</td>\n",
       "      <td>...</td>\n",
       "      <td>0.00000</td>\n",
       "      <td>0.0000</td>\n",
       "      <td>0.0000</td>\n",
       "      <td>0.0000</td>\n",
       "      <td>1.00000</td>\n",
       "      <td>1.000000</td>\n",
       "      <td>1.000000</td>\n",
       "      <td>1.000000</td>\n",
       "      <td>1.000000</td>\n",
       "      <td>1.000</td>\n",
       "    </tr>\n",
       "    <tr>\n",
       "      <th>Species_Whitefish</th>\n",
       "      <td>159.0</td>\n",
       "      <td>0.037736</td>\n",
       "      <td>0.191159</td>\n",
       "      <td>0.0000</td>\n",
       "      <td>0.000000</td>\n",
       "      <td>0.000000</td>\n",
       "      <td>0.000000</td>\n",
       "      <td>0.000000</td>\n",
       "      <td>0.00000</td>\n",
       "      <td>0.00000</td>\n",
       "      <td>...</td>\n",
       "      <td>0.00000</td>\n",
       "      <td>0.0000</td>\n",
       "      <td>0.0000</td>\n",
       "      <td>0.0000</td>\n",
       "      <td>0.00000</td>\n",
       "      <td>0.000000</td>\n",
       "      <td>1.000000</td>\n",
       "      <td>1.000000</td>\n",
       "      <td>1.000000</td>\n",
       "      <td>1.000</td>\n",
       "    </tr>\n",
       "  </tbody>\n",
       "</table>\n",
       "<p>12 rows × 21 columns</p>\n",
       "</div>"
      ],
      "text/plain": [
       "                   count        mean         std     min         1%  \\\n",
       "Weight             159.0  398.326415  357.978317  0.0000   6.364000   \n",
       "Length1            159.0   26.247170    9.996441  7.5000   9.706000   \n",
       "Length2            159.0   28.415723   10.716328  8.4000  10.206000   \n",
       "Length3            159.0   31.227044   11.610246  8.8000  11.264000   \n",
       "Height             159.0    8.970994    4.286208  1.7284   1.874056   \n",
       "Width              159.0    4.417486    1.685804  1.0476   1.148400   \n",
       "Species_Parkki     159.0    0.069182    0.254566  0.0000   0.000000   \n",
       "Species_Perch      159.0    0.352201    0.479165  0.0000   0.000000   \n",
       "Species_Pike       159.0    0.106918    0.309986  0.0000   0.000000   \n",
       "Species_Roach      159.0    0.125786    0.332656  0.0000   0.000000   \n",
       "Species_Smelt      159.0    0.088050    0.284263  0.0000   0.000000   \n",
       "Species_Whitefish  159.0    0.037736    0.191159  0.0000   0.000000   \n",
       "\n",
       "                          2%         3%         4%        5%       10%  ...  \\\n",
       "Weight              7.080000   8.388000   9.732000   9.80000  29.58000  ...   \n",
       "Length1            10.148000  10.622000  10.960000  11.30000  13.44000  ...   \n",
       "Length2            10.664000  11.148000  11.460000  11.80000  14.62000  ...   \n",
       "Length3            11.664000  12.296000  12.760000  13.10000  16.16000  ...   \n",
       "Height              1.995000   2.088528   2.138880   2.20356   3.76480  ...   \n",
       "Width               1.160944   1.232426   1.271624   1.28314   2.22784  ...   \n",
       "Species_Parkki      0.000000   0.000000   0.000000   0.00000   0.00000  ...   \n",
       "Species_Perch       0.000000   0.000000   0.000000   0.00000   0.00000  ...   \n",
       "Species_Pike        0.000000   0.000000   0.000000   0.00000   0.00000  ...   \n",
       "Species_Roach       0.000000   0.000000   0.000000   0.00000   0.00000  ...   \n",
       "Species_Smelt       0.000000   0.000000   0.000000   0.00000   0.00000  ...   \n",
       "Species_Whitefish   0.000000   0.000000   0.000000   0.00000   0.00000  ...   \n",
       "\n",
       "                         25%       50%       75%       90%         95%  \\\n",
       "Weight             120.00000  273.0000  650.0000  930.0000  1000.00000   \n",
       "Length1             19.05000   25.2000   32.7000   38.2000    41.19000   \n",
       "Length2             21.00000   27.3000   35.5000   41.2000    44.10000   \n",
       "Length3             23.15000   29.4000   39.6500   45.3400    46.74000   \n",
       "Height               5.94480    7.7860   12.3659   15.1904    16.37732   \n",
       "Width                3.38565    4.2485    5.5845    6.7421     7.28462   \n",
       "Species_Parkki       0.00000    0.0000    0.0000    0.0000     1.00000   \n",
       "Species_Perch        0.00000    0.0000    1.0000    1.0000     1.00000   \n",
       "Species_Pike         0.00000    0.0000    0.0000    1.0000     1.00000   \n",
       "Species_Roach        0.00000    0.0000    0.0000    1.0000     1.00000   \n",
       "Species_Smelt        0.00000    0.0000    0.0000    0.0000     1.00000   \n",
       "Species_Whitefish    0.00000    0.0000    0.0000    0.0000     0.00000   \n",
       "\n",
       "                           96%          97%          98%          99%  \\\n",
       "Weight             1010.200000  1100.000000  1226.000000  1571.000000   \n",
       "Length1              42.816000    45.710000    51.408000    56.000000   \n",
       "Length2              45.680000    48.962000    55.312000    60.000000   \n",
       "Length3              48.476000    52.214000    58.964000    64.000000   \n",
       "Height               16.770368    17.730984    18.076464    18.685296   \n",
       "Width                 7.395668     7.466976     7.491256     7.679758   \n",
       "Species_Parkki        1.000000     1.000000     1.000000     1.000000   \n",
       "Species_Perch         1.000000     1.000000     1.000000     1.000000   \n",
       "Species_Pike          1.000000     1.000000     1.000000     1.000000   \n",
       "Species_Roach         1.000000     1.000000     1.000000     1.000000   \n",
       "Species_Smelt         1.000000     1.000000     1.000000     1.000000   \n",
       "Species_Whitefish     0.000000     1.000000     1.000000     1.000000   \n",
       "\n",
       "                        max  \n",
       "Weight             1650.000  \n",
       "Length1              59.000  \n",
       "Length2              63.400  \n",
       "Length3              68.000  \n",
       "Height               18.957  \n",
       "Width                 8.142  \n",
       "Species_Parkki        1.000  \n",
       "Species_Perch         1.000  \n",
       "Species_Pike          1.000  \n",
       "Species_Roach         1.000  \n",
       "Species_Smelt         1.000  \n",
       "Species_Whitefish     1.000  \n",
       "\n",
       "[12 rows x 21 columns]"
      ]
     },
     "execution_count": 63,
     "metadata": {},
     "output_type": "execute_result"
    }
   ],
   "source": [
    "Outliers=fish1.describe(percentiles=[0.01, 0.02, 0.03, 0.04, 0.05, 0.1, 0.15, 0.25, 0.5, 0.75, 0.90, 0.95, 0.96, 0.97, 0.98, 0.99]).T\n",
    "Outliers"
   ]
  },
  {
   "cell_type": "code",
   "execution_count": 64,
   "metadata": {},
   "outputs": [],
   "source": [
    "Outliers.to_csv(\"Outlier.csv\") ##"
   ]
  },
  {
   "cell_type": "code",
   "execution_count": null,
   "metadata": {},
   "outputs": [],
   "source": []
  },
  {
   "cell_type": "code",
   "execution_count": 66,
   "metadata": {},
   "outputs": [],
   "source": [
    "corr=fish1.corr()  # Correlation using heatmap"
   ]
  },
  {
   "cell_type": "code",
   "execution_count": 67,
   "metadata": {},
   "outputs": [],
   "source": [
    "corr.to_csv(\"corr.csv\")"
   ]
  },
  {
   "cell_type": "code",
   "execution_count": 68,
   "metadata": {},
   "outputs": [
    {
     "data": {
      "image/png": "[encoded data removed]",
      "text/plain": [
       "<Figure size 720x720 with 2 Axes>"
      ]
     },
     "metadata": {
      "needs_background": "light"
     },
     "output_type": "display_data"
    }
   ],
   "source": [
    "\n",
    "f,ax=plt.subplots(figsize=(10,10))\n",
    "sns.heatmap(corr,ax=ax,cmap=\"gist_rainbow\", linewidths=0.1)\n",
    "plt.show()"
   ]
  },
  {
   "cell_type": "code",
   "execution_count": null,
   "metadata": {},
   "outputs": [],
   "source": []
  },
  {
   "cell_type": "code",
   "execution_count": 69,
   "metadata": {},
   "outputs": [
    {
     "data": {
      "text/html": [
       "<style  type=\"text/css\" >\n",
       "    #T_90106f06_f8da_11eb_8025_00177c601b52row0_col0 {\n",
       "            background-color:  #b40426;\n",
       "            color:  #f1f1f1;\n",
       "        }    #T_90106f06_f8da_11eb_8025_00177c601b52row0_col1 {\n",
       "            background-color:  #c83836;\n",
       "            color:  #f1f1f1;\n",
       "        }    #T_90106f06_f8da_11eb_8025_00177c601b52row0_col2 {\n",
       "            background-color:  #c83836;\n",
       "            color:  #f1f1f1;\n",
       "        }    #T_90106f06_f8da_11eb_8025_00177c601b52row0_col3 {\n",
       "            background-color:  #c73635;\n",
       "            color:  #f1f1f1;\n",
       "        }    #T_90106f06_f8da_11eb_8025_00177c601b52row0_col4 {\n",
       "            background-color:  #eb7d62;\n",
       "            color:  #000000;\n",
       "        }    #T_90106f06_f8da_11eb_8025_00177c601b52row0_col5 {\n",
       "            background-color:  #cd423b;\n",
       "            color:  #f1f1f1;\n",
       "        }    #T_90106f06_f8da_11eb_8025_00177c601b52row0_col6 {\n",
       "            background-color:  #3f53c6;\n",
       "            color:  #f1f1f1;\n",
       "        }    #T_90106f06_f8da_11eb_8025_00177c601b52row0_col7 {\n",
       "            background-color:  #799cf8;\n",
       "            color:  #000000;\n",
       "        }    #T_90106f06_f8da_11eb_8025_00177c601b52row0_col8 {\n",
       "            background-color:  #cfdaea;\n",
       "            color:  #000000;\n",
       "        }    #T_90106f06_f8da_11eb_8025_00177c601b52row0_col9 {\n",
       "            background-color:  #3e51c5;\n",
       "            color:  #f1f1f1;\n",
       "        }    #T_90106f06_f8da_11eb_8025_00177c601b52row0_col10 {\n",
       "            background-color:  #688aef;\n",
       "            color:  #000000;\n",
       "        }    #T_90106f06_f8da_11eb_8025_00177c601b52row0_col11 {\n",
       "            background-color:  #799cf8;\n",
       "            color:  #000000;\n",
       "        }    #T_90106f06_f8da_11eb_8025_00177c601b52row1_col0 {\n",
       "            background-color:  #cb3e38;\n",
       "            color:  #f1f1f1;\n",
       "        }    #T_90106f06_f8da_11eb_8025_00177c601b52row1_col1 {\n",
       "            background-color:  #b40426;\n",
       "            color:  #f1f1f1;\n",
       "        }    #T_90106f06_f8da_11eb_8025_00177c601b52row1_col2 {\n",
       "            background-color:  #b40426;\n",
       "            color:  #f1f1f1;\n",
       "        }    #T_90106f06_f8da_11eb_8025_00177c601b52row1_col3 {\n",
       "            background-color:  #b50927;\n",
       "            color:  #f1f1f1;\n",
       "        }    #T_90106f06_f8da_11eb_8025_00177c601b52row1_col4 {\n",
       "            background-color:  #f49a7b;\n",
       "            color:  #000000;\n",
       "        }    #T_90106f06_f8da_11eb_8025_00177c601b52row1_col5 {\n",
       "            background-color:  #d1493f;\n",
       "            color:  #f1f1f1;\n",
       "        }    #T_90106f06_f8da_11eb_8025_00177c601b52row1_col6 {\n",
       "            background-color:  #3b4cc0;\n",
       "            color:  #f1f1f1;\n",
       "        }    #T_90106f06_f8da_11eb_8025_00177c601b52row1_col7 {\n",
       "            background-color:  #779af7;\n",
       "            color:  #000000;\n",
       "        }    #T_90106f06_f8da_11eb_8025_00177c601b52row1_col8 {\n",
       "            background-color:  #f6bda2;\n",
       "            color:  #000000;\n",
       "        }    #T_90106f06_f8da_11eb_8025_00177c601b52row1_col9 {\n",
       "            background-color:  #4a63d3;\n",
       "            color:  #f1f1f1;\n",
       "        }    #T_90106f06_f8da_11eb_8025_00177c601b52row1_col10 {\n",
       "            background-color:  #4e68d8;\n",
       "            color:  #000000;\n",
       "        }    #T_90106f06_f8da_11eb_8025_00177c601b52row1_col11 {\n",
       "            background-color:  #7093f3;\n",
       "            color:  #000000;\n",
       "        }    #T_90106f06_f8da_11eb_8025_00177c601b52row2_col0 {\n",
       "            background-color:  #ca3b37;\n",
       "            color:  #f1f1f1;\n",
       "        }    #T_90106f06_f8da_11eb_8025_00177c601b52row2_col1 {\n",
       "            background-color:  #b40426;\n",
       "            color:  #f1f1f1;\n",
       "        }    #T_90106f06_f8da_11eb_8025_00177c601b52row2_col2 {\n",
       "            background-color:  #b40426;\n",
       "            color:  #f1f1f1;\n",
       "        }    #T_90106f06_f8da_11eb_8025_00177c601b52row2_col3 {\n",
       "            background-color:  #b50927;\n",
       "            color:  #f1f1f1;\n",
       "        }    #T_90106f06_f8da_11eb_8025_00177c601b52row2_col4 {\n",
       "            background-color:  #f39577;\n",
       "            color:  #000000;\n",
       "        }    #T_90106f06_f8da_11eb_8025_00177c601b52row2_col5 {\n",
       "            background-color:  #d0473d;\n",
       "            color:  #f1f1f1;\n",
       "        }    #T_90106f06_f8da_11eb_8025_00177c601b52row2_col6 {\n",
       "            background-color:  #3b4cc0;\n",
       "            color:  #f1f1f1;\n",
       "        }    #T_90106f06_f8da_11eb_8025_00177c601b52row2_col7 {\n",
       "            background-color:  #779af7;\n",
       "            color:  #000000;\n",
       "        }    #T_90106f06_f8da_11eb_8025_00177c601b52row2_col8 {\n",
       "            background-color:  #f6bfa6;\n",
       "            color:  #000000;\n",
       "        }    #T_90106f06_f8da_11eb_8025_00177c601b52row2_col9 {\n",
       "            background-color:  #4961d2;\n",
       "            color:  #f1f1f1;\n",
       "        }    #T_90106f06_f8da_11eb_8025_00177c601b52row2_col10 {\n",
       "            background-color:  #4b64d5;\n",
       "            color:  #f1f1f1;\n",
       "        }    #T_90106f06_f8da_11eb_8025_00177c601b52row2_col11 {\n",
       "            background-color:  #7295f4;\n",
       "            color:  #000000;\n",
       "        }    #T_90106f06_f8da_11eb_8025_00177c601b52row3_col0 {\n",
       "            background-color:  #c83836;\n",
       "            color:  #f1f1f1;\n",
       "        }    #T_90106f06_f8da_11eb_8025_00177c601b52row3_col1 {\n",
       "            background-color:  #b50927;\n",
       "            color:  #f1f1f1;\n",
       "        }    #T_90106f06_f8da_11eb_8025_00177c601b52row3_col2 {\n",
       "            background-color:  #b50927;\n",
       "            color:  #f1f1f1;\n",
       "        }    #T_90106f06_f8da_11eb_8025_00177c601b52row3_col3 {\n",
       "            background-color:  #b40426;\n",
       "            color:  #f1f1f1;\n",
       "        }    #T_90106f06_f8da_11eb_8025_00177c601b52row3_col4 {\n",
       "            background-color:  #ed8366;\n",
       "            color:  #000000;\n",
       "        }    #T_90106f06_f8da_11eb_8025_00177c601b52row3_col5 {\n",
       "            background-color:  #cf453c;\n",
       "            color:  #f1f1f1;\n",
       "        }    #T_90106f06_f8da_11eb_8025_00177c601b52row3_col6 {\n",
       "            background-color:  #3c4ec2;\n",
       "            color:  #f1f1f1;\n",
       "        }    #T_90106f06_f8da_11eb_8025_00177c601b52row3_col7 {\n",
       "            background-color:  #6485ec;\n",
       "            color:  #000000;\n",
       "        }    #T_90106f06_f8da_11eb_8025_00177c601b52row3_col8 {\n",
       "            background-color:  #f4c6af;\n",
       "            color:  #000000;\n",
       "        }    #T_90106f06_f8da_11eb_8025_00177c601b52row3_col9 {\n",
       "            background-color:  #4b64d5;\n",
       "            color:  #f1f1f1;\n",
       "        }    #T_90106f06_f8da_11eb_8025_00177c601b52row3_col10 {\n",
       "            background-color:  #4a63d3;\n",
       "            color:  #f1f1f1;\n",
       "        }    #T_90106f06_f8da_11eb_8025_00177c601b52row3_col11 {\n",
       "            background-color:  #7295f4;\n",
       "            color:  #000000;\n",
       "        }    #T_90106f06_f8da_11eb_8025_00177c601b52row4_col0 {\n",
       "            background-color:  #ee8669;\n",
       "            color:  #000000;\n",
       "        }    #T_90106f06_f8da_11eb_8025_00177c601b52row4_col1 {\n",
       "            background-color:  #f59c7d;\n",
       "            color:  #000000;\n",
       "        }    #T_90106f06_f8da_11eb_8025_00177c601b52row4_col2 {\n",
       "            background-color:  #f39778;\n",
       "            color:  #000000;\n",
       "        }    #T_90106f06_f8da_11eb_8025_00177c601b52row4_col3 {\n",
       "            background-color:  #ee8468;\n",
       "            color:  #000000;\n",
       "        }    #T_90106f06_f8da_11eb_8025_00177c601b52row4_col4 {\n",
       "            background-color:  #b40426;\n",
       "            color:  #f1f1f1;\n",
       "        }    #T_90106f06_f8da_11eb_8025_00177c601b52row4_col5 {\n",
       "            background-color:  #df634e;\n",
       "            color:  #000000;\n",
       "        }    #T_90106f06_f8da_11eb_8025_00177c601b52row4_col6 {\n",
       "            background-color:  #7093f3;\n",
       "            color:  #000000;\n",
       "        }    #T_90106f06_f8da_11eb_8025_00177c601b52row4_col7 {\n",
       "            background-color:  #4f69d9;\n",
       "            color:  #000000;\n",
       "        }    #T_90106f06_f8da_11eb_8025_00177c601b52row4_col8 {\n",
       "            background-color:  #6180e9;\n",
       "            color:  #000000;\n",
       "        }    #T_90106f06_f8da_11eb_8025_00177c601b52row4_col9 {\n",
       "            background-color:  #4c66d6;\n",
       "            color:  #000000;\n",
       "        }    #T_90106f06_f8da_11eb_8025_00177c601b52row4_col10 {\n",
       "            background-color:  #4961d2;\n",
       "            color:  #f1f1f1;\n",
       "        }    #T_90106f06_f8da_11eb_8025_00177c601b52row4_col11 {\n",
       "            background-color:  #7093f3;\n",
       "            color:  #000000;\n",
       "        }    #T_90106f06_f8da_11eb_8025_00177c601b52row5_col0 {\n",
       "            background-color:  #d1493f;\n",
       "            color:  #f1f1f1;\n",
       "        }    #T_90106f06_f8da_11eb_8025_00177c601b52row5_col1 {\n",
       "            background-color:  #d44e41;\n",
       "            color:  #000000;\n",
       "        }    #T_90106f06_f8da_11eb_8025_00177c601b52row5_col2 {\n",
       "            background-color:  #d1493f;\n",
       "            color:  #f1f1f1;\n",
       "        }    #T_90106f06_f8da_11eb_8025_00177c601b52row5_col3 {\n",
       "            background-color:  #d0473d;\n",
       "            color:  #f1f1f1;\n",
       "        }    #T_90106f06_f8da_11eb_8025_00177c601b52row5_col4 {\n",
       "            background-color:  #e16751;\n",
       "            color:  #000000;\n",
       "        }    #T_90106f06_f8da_11eb_8025_00177c601b52row5_col5 {\n",
       "            background-color:  #b40426;\n",
       "            color:  #f1f1f1;\n",
       "        }    #T_90106f06_f8da_11eb_8025_00177c601b52row5_col6 {\n",
       "            background-color:  #3d50c3;\n",
       "            color:  #f1f1f1;\n",
       "        }    #T_90106f06_f8da_11eb_8025_00177c601b52row5_col7 {\n",
       "            background-color:  #a9c6fd;\n",
       "            color:  #000000;\n",
       "        }    #T_90106f06_f8da_11eb_8025_00177c601b52row5_col8 {\n",
       "            background-color:  #a3c2fe;\n",
       "            color:  #000000;\n",
       "        }    #T_90106f06_f8da_11eb_8025_00177c601b52row5_col9 {\n",
       "            background-color:  #5470de;\n",
       "            color:  #000000;\n",
       "        }    #T_90106f06_f8da_11eb_8025_00177c601b52row5_col10 {\n",
       "            background-color:  #3b4cc0;\n",
       "            color:  #f1f1f1;\n",
       "        }    #T_90106f06_f8da_11eb_8025_00177c601b52row5_col11 {\n",
       "            background-color:  #88abfd;\n",
       "            color:  #000000;\n",
       "        }    #T_90106f06_f8da_11eb_8025_00177c601b52row6_col0 {\n",
       "            background-color:  #5d7ce6;\n",
       "            color:  #000000;\n",
       "        }    #T_90106f06_f8da_11eb_8025_00177c601b52row6_col1 {\n",
       "            background-color:  #7396f5;\n",
       "            color:  #000000;\n",
       "        }    #T_90106f06_f8da_11eb_8025_00177c601b52row6_col2 {\n",
       "            background-color:  #7699f6;\n",
       "            color:  #000000;\n",
       "        }    #T_90106f06_f8da_11eb_8025_00177c601b52row6_col3 {\n",
       "            background-color:  #799cf8;\n",
       "            color:  #000000;\n",
       "        }    #T_90106f06_f8da_11eb_8025_00177c601b52row6_col4 {\n",
       "            background-color:  #a9c6fd;\n",
       "            color:  #000000;\n",
       "        }    #T_90106f06_f8da_11eb_8025_00177c601b52row6_col5 {\n",
       "            background-color:  #89acfd;\n",
       "            color:  #000000;\n",
       "        }    #T_90106f06_f8da_11eb_8025_00177c601b52row6_col6 {\n",
       "            background-color:  #b40426;\n",
       "            color:  #f1f1f1;\n",
       "        }    #T_90106f06_f8da_11eb_8025_00177c601b52row6_col7 {\n",
       "            background-color:  #4c66d6;\n",
       "            color:  #000000;\n",
       "        }    #T_90106f06_f8da_11eb_8025_00177c601b52row6_col8 {\n",
       "            background-color:  #6282ea;\n",
       "            color:  #000000;\n",
       "        }    #T_90106f06_f8da_11eb_8025_00177c601b52row6_col9 {\n",
       "            background-color:  #6687ed;\n",
       "            color:  #000000;\n",
       "        }    #T_90106f06_f8da_11eb_8025_00177c601b52row6_col10 {\n",
       "            background-color:  #a2c1ff;\n",
       "            color:  #000000;\n",
       "        }    #T_90106f06_f8da_11eb_8025_00177c601b52row6_col11 {\n",
       "            background-color:  #536edd;\n",
       "            color:  #000000;\n",
       "        }    #T_90106f06_f8da_11eb_8025_00177c601b52row7_col0 {\n",
       "            background-color:  #85a8fc;\n",
       "            color:  #000000;\n",
       "        }    #T_90106f06_f8da_11eb_8025_00177c601b52row7_col1 {\n",
       "            background-color:  #9bbcff;\n",
       "            color:  #000000;\n",
       "        }    #T_90106f06_f8da_11eb_8025_00177c601b52row7_col2 {\n",
       "            background-color:  #9ebeff;\n",
       "            color:  #000000;\n",
       "        }    #T_90106f06_f8da_11eb_8025_00177c601b52row7_col3 {\n",
       "            background-color:  #8fb1fe;\n",
       "            color:  #000000;\n",
       "        }    #T_90106f06_f8da_11eb_8025_00177c601b52row7_col4 {\n",
       "            background-color:  #7b9ff9;\n",
       "            color:  #000000;\n",
       "        }    #T_90106f06_f8da_11eb_8025_00177c601b52row7_col5 {\n",
       "            background-color:  #d1dae9;\n",
       "            color:  #000000;\n",
       "        }    #T_90106f06_f8da_11eb_8025_00177c601b52row7_col6 {\n",
       "            background-color:  #3c4ec2;\n",
       "            color:  #f1f1f1;\n",
       "        }    #T_90106f06_f8da_11eb_8025_00177c601b52row7_col7 {\n",
       "            background-color:  #b40426;\n",
       "            color:  #f1f1f1;\n",
       "        }    #T_90106f06_f8da_11eb_8025_00177c601b52row7_col8 {\n",
       "            background-color:  #3b4cc0;\n",
       "            color:  #f1f1f1;\n",
       "        }    #T_90106f06_f8da_11eb_8025_00177c601b52row7_col9 {\n",
       "            background-color:  #3b4cc0;\n",
       "            color:  #f1f1f1;\n",
       "        }    #T_90106f06_f8da_11eb_8025_00177c601b52row7_col10 {\n",
       "            background-color:  #81a4fb;\n",
       "            color:  #000000;\n",
       "        }    #T_90106f06_f8da_11eb_8025_00177c601b52row7_col11 {\n",
       "            background-color:  #3b4cc0;\n",
       "            color:  #f1f1f1;\n",
       "        }    #T_90106f06_f8da_11eb_8025_00177c601b52row8_col0 {\n",
       "            background-color:  #d9dce1;\n",
       "            color:  #000000;\n",
       "        }    #T_90106f06_f8da_11eb_8025_00177c601b52row8_col1 {\n",
       "            background-color:  #f7ac8e;\n",
       "            color:  #000000;\n",
       "        }    #T_90106f06_f8da_11eb_8025_00177c601b52row8_col2 {\n",
       "            background-color:  #f7ad90;\n",
       "            color:  #000000;\n",
       "        }    #T_90106f06_f8da_11eb_8025_00177c601b52row8_col3 {\n",
       "            background-color:  #f7b497;\n",
       "            color:  #000000;\n",
       "        }    #T_90106f06_f8da_11eb_8025_00177c601b52row8_col4 {\n",
       "            background-color:  #90b2fe;\n",
       "            color:  #000000;\n",
       "        }    #T_90106f06_f8da_11eb_8025_00177c601b52row8_col5 {\n",
       "            background-color:  #cfdaea;\n",
       "            color:  #000000;\n",
       "        }    #T_90106f06_f8da_11eb_8025_00177c601b52row8_col6 {\n",
       "            background-color:  #5673e0;\n",
       "            color:  #000000;\n",
       "        }    #T_90106f06_f8da_11eb_8025_00177c601b52row8_col7 {\n",
       "            background-color:  #3f53c6;\n",
       "            color:  #f1f1f1;\n",
       "        }    #T_90106f06_f8da_11eb_8025_00177c601b52row8_col8 {\n",
       "            background-color:  #b40426;\n",
       "            color:  #f1f1f1;\n",
       "        }    #T_90106f06_f8da_11eb_8025_00177c601b52row8_col9 {\n",
       "            background-color:  #5e7de7;\n",
       "            color:  #000000;\n",
       "        }    #T_90106f06_f8da_11eb_8025_00177c601b52row8_col10 {\n",
       "            background-color:  #9dbdff;\n",
       "            color:  #000000;\n",
       "        }    #T_90106f06_f8da_11eb_8025_00177c601b52row8_col11 {\n",
       "            background-color:  #4f69d9;\n",
       "            color:  #000000;\n",
       "        }    #T_90106f06_f8da_11eb_8025_00177c601b52row9_col0 {\n",
       "            background-color:  #4b64d5;\n",
       "            color:  #f1f1f1;\n",
       "        }    #T_90106f06_f8da_11eb_8025_00177c601b52row9_col1 {\n",
       "            background-color:  #7295f4;\n",
       "            color:  #000000;\n",
       "        }    #T_90106f06_f8da_11eb_8025_00177c601b52row9_col2 {\n",
       "            background-color:  #7396f5;\n",
       "            color:  #000000;\n",
       "        }    #T_90106f06_f8da_11eb_8025_00177c601b52row9_col3 {\n",
       "            background-color:  #779af7;\n",
       "            color:  #000000;\n",
       "        }    #T_90106f06_f8da_11eb_8025_00177c601b52row9_col4 {\n",
       "            background-color:  #799cf8;\n",
       "            color:  #000000;\n",
       "        }    #T_90106f06_f8da_11eb_8025_00177c601b52row9_col5 {\n",
       "            background-color:  #8db0fe;\n",
       "            color:  #000000;\n",
       "        }    #T_90106f06_f8da_11eb_8025_00177c601b52row9_col6 {\n",
       "            background-color:  #5470de;\n",
       "            color:  #000000;\n",
       "        }    #T_90106f06_f8da_11eb_8025_00177c601b52row9_col7 {\n",
       "            background-color:  #3b4cc0;\n",
       "            color:  #f1f1f1;\n",
       "        }    #T_90106f06_f8da_11eb_8025_00177c601b52row9_col8 {\n",
       "            background-color:  #5977e3;\n",
       "            color:  #000000;\n",
       "        }    #T_90106f06_f8da_11eb_8025_00177c601b52row9_col9 {\n",
       "            background-color:  #b40426;\n",
       "            color:  #f1f1f1;\n",
       "        }    #T_90106f06_f8da_11eb_8025_00177c601b52row9_col10 {\n",
       "            background-color:  #9abbff;\n",
       "            color:  #000000;\n",
       "        }    #T_90106f06_f8da_11eb_8025_00177c601b52row9_col11 {\n",
       "            background-color:  #4c66d6;\n",
       "            color:  #000000;\n",
       "        }    #T_90106f06_f8da_11eb_8025_00177c601b52row10_col0 {\n",
       "            background-color:  #3b4cc0;\n",
       "            color:  #f1f1f1;\n",
       "        }    #T_90106f06_f8da_11eb_8025_00177c601b52row10_col1 {\n",
       "            background-color:  #3b4cc0;\n",
       "            color:  #f1f1f1;\n",
       "        }    #T_90106f06_f8da_11eb_8025_00177c601b52row10_col2 {\n",
       "            background-color:  #3b4cc0;\n",
       "            color:  #f1f1f1;\n",
       "        }    #T_90106f06_f8da_11eb_8025_00177c601b52row10_col3 {\n",
       "            background-color:  #3b4cc0;\n",
       "            color:  #f1f1f1;\n",
       "        }    #T_90106f06_f8da_11eb_8025_00177c601b52row10_col4 {\n",
       "            background-color:  #3b4cc0;\n",
       "            color:  #f1f1f1;\n",
       "        }    #T_90106f06_f8da_11eb_8025_00177c601b52row10_col5 {\n",
       "            background-color:  #3b4cc0;\n",
       "            color:  #f1f1f1;\n",
       "        }    #T_90106f06_f8da_11eb_8025_00177c601b52row10_col6 {\n",
       "            background-color:  #5977e3;\n",
       "            color:  #000000;\n",
       "        }    #T_90106f06_f8da_11eb_8025_00177c601b52row10_col7 {\n",
       "            background-color:  #465ecf;\n",
       "            color:  #f1f1f1;\n",
       "        }    #T_90106f06_f8da_11eb_8025_00177c601b52row10_col8 {\n",
       "            background-color:  #5f7fe8;\n",
       "            color:  #000000;\n",
       "        }    #T_90106f06_f8da_11eb_8025_00177c601b52row10_col9 {\n",
       "            background-color:  #6282ea;\n",
       "            color:  #000000;\n",
       "        }    #T_90106f06_f8da_11eb_8025_00177c601b52row10_col10 {\n",
       "            background-color:  #b40426;\n",
       "            color:  #f1f1f1;\n",
       "        }    #T_90106f06_f8da_11eb_8025_00177c601b52row10_col11 {\n",
       "            background-color:  #506bda;\n",
       "            color:  #000000;\n",
       "        }    #T_90106f06_f8da_11eb_8025_00177c601b52row11_col0 {\n",
       "            background-color:  #a1c0ff;\n",
       "            color:  #000000;\n",
       "        }    #T_90106f06_f8da_11eb_8025_00177c601b52row11_col1 {\n",
       "            background-color:  #b1cbfc;\n",
       "            color:  #000000;\n",
       "        }    #T_90106f06_f8da_11eb_8025_00177c601b52row11_col2 {\n",
       "            background-color:  #b3cdfb;\n",
       "            color:  #000000;\n",
       "        }    #T_90106f06_f8da_11eb_8025_00177c601b52row11_col3 {\n",
       "            background-color:  #b5cdfa;\n",
       "            color:  #000000;\n",
       "        }    #T_90106f06_f8da_11eb_8025_00177c601b52row11_col4 {\n",
       "            background-color:  #b3cdfb;\n",
       "            color:  #000000;\n",
       "        }    #T_90106f06_f8da_11eb_8025_00177c601b52row11_col5 {\n",
       "            background-color:  #cdd9ec;\n",
       "            color:  #000000;\n",
       "        }    #T_90106f06_f8da_11eb_8025_00177c601b52row11_col6 {\n",
       "            background-color:  #6282ea;\n",
       "            color:  #000000;\n",
       "        }    #T_90106f06_f8da_11eb_8025_00177c601b52row11_col7 {\n",
       "            background-color:  #5a78e4;\n",
       "            color:  #000000;\n",
       "        }    #T_90106f06_f8da_11eb_8025_00177c601b52row11_col8 {\n",
       "            background-color:  #6a8bef;\n",
       "            color:  #000000;\n",
       "        }    #T_90106f06_f8da_11eb_8025_00177c601b52row11_col9 {\n",
       "            background-color:  #6c8ff1;\n",
       "            color:  #000000;\n",
       "        }    #T_90106f06_f8da_11eb_8025_00177c601b52row11_col10 {\n",
       "            background-color:  #a6c4fe;\n",
       "            color:  #000000;\n",
       "        }    #T_90106f06_f8da_11eb_8025_00177c601b52row11_col11 {\n",
       "            background-color:  #b40426;\n",
       "            color:  #f1f1f1;\n",
       "        }</style><table id=\"T_90106f06_f8da_11eb_8025_00177c601b52\" ><thead>    <tr>        <th class=\"blank level0\" ></th>        <th class=\"col_heading level0 col0\" >Weight</th>        <th class=\"col_heading level0 col1\" >Length1</th>        <th class=\"col_heading level0 col2\" >Length2</th>        <th class=\"col_heading level0 col3\" >Length3</th>        <th class=\"col_heading level0 col4\" >Height</th>        <th class=\"col_heading level0 col5\" >Width</th>        <th class=\"col_heading level0 col6\" >Species_Parkki</th>        <th class=\"col_heading level0 col7\" >Species_Perch</th>        <th class=\"col_heading level0 col8\" >Species_Pike</th>        <th class=\"col_heading level0 col9\" >Species_Roach</th>        <th class=\"col_heading level0 col10\" >Species_Smelt</th>        <th class=\"col_heading level0 col11\" >Species_Whitefish</th>    </tr></thead><tbody>\n",
       "                <tr>\n",
       "                        <th id=\"T_90106f06_f8da_11eb_8025_00177c601b52level0_row0\" class=\"row_heading level0 row0\" >Weight</th>\n",
       "                        <td id=\"T_90106f06_f8da_11eb_8025_00177c601b52row0_col0\" class=\"data row0 col0\" >1.000</td>\n",
       "                        <td id=\"T_90106f06_f8da_11eb_8025_00177c601b52row0_col1\" class=\"data row0 col1\" >0.916</td>\n",
       "                        <td id=\"T_90106f06_f8da_11eb_8025_00177c601b52row0_col2\" class=\"data row0 col2\" >0.919</td>\n",
       "                        <td id=\"T_90106f06_f8da_11eb_8025_00177c601b52row0_col3\" class=\"data row0 col3\" >0.923</td>\n",
       "                        <td id=\"T_90106f06_f8da_11eb_8025_00177c601b52row0_col4\" class=\"data row0 col4\" >0.724</td>\n",
       "                        <td id=\"T_90106f06_f8da_11eb_8025_00177c601b52row0_col5\" class=\"data row0 col5\" >0.887</td>\n",
       "                        <td id=\"T_90106f06_f8da_11eb_8025_00177c601b52row0_col6\" class=\"data row0 col6\" >-0.186</td>\n",
       "                        <td id=\"T_90106f06_f8da_11eb_8025_00177c601b52row0_col7\" class=\"data row0 col7\" >-0.033</td>\n",
       "                        <td id=\"T_90106f06_f8da_11eb_8025_00177c601b52row0_col8\" class=\"data row0 col8\" >0.311</td>\n",
       "                        <td id=\"T_90106f06_f8da_11eb_8025_00177c601b52row0_col9\" class=\"data row0 col9\" >-0.262</td>\n",
       "                        <td id=\"T_90106f06_f8da_11eb_8025_00177c601b52row0_col10\" class=\"data row0 col10\" >-0.337</td>\n",
       "                        <td id=\"T_90106f06_f8da_11eb_8025_00177c601b52row0_col11\" class=\"data row0 col11\" >0.074</td>\n",
       "            </tr>\n",
       "            <tr>\n",
       "                        <th id=\"T_90106f06_f8da_11eb_8025_00177c601b52level0_row1\" class=\"row_heading level0 row1\" >Length1</th>\n",
       "                        <td id=\"T_90106f06_f8da_11eb_8025_00177c601b52row1_col0\" class=\"data row1 col0\" >0.916</td>\n",
       "                        <td id=\"T_90106f06_f8da_11eb_8025_00177c601b52row1_col1\" class=\"data row1 col1\" >1.000</td>\n",
       "                        <td id=\"T_90106f06_f8da_11eb_8025_00177c601b52row1_col2\" class=\"data row1 col2\" >1.000</td>\n",
       "                        <td id=\"T_90106f06_f8da_11eb_8025_00177c601b52row1_col3\" class=\"data row1 col3\" >0.992</td>\n",
       "                        <td id=\"T_90106f06_f8da_11eb_8025_00177c601b52row1_col4\" class=\"data row1 col4\" >0.625</td>\n",
       "                        <td id=\"T_90106f06_f8da_11eb_8025_00177c601b52row1_col5\" class=\"data row1 col5\" >0.867</td>\n",
       "                        <td id=\"T_90106f06_f8da_11eb_8025_00177c601b52row1_col6\" class=\"data row1 col6\" >-0.206</td>\n",
       "                        <td id=\"T_90106f06_f8da_11eb_8025_00177c601b52row1_col7\" class=\"data row1 col7\" >-0.038</td>\n",
       "                        <td id=\"T_90106f06_f8da_11eb_8025_00177c601b52row1_col8\" class=\"data row1 col8\" >0.564</td>\n",
       "                        <td id=\"T_90106f06_f8da_11eb_8025_00177c601b52row1_col9\" class=\"data row1 col9\" >-0.213</td>\n",
       "                        <td id=\"T_90106f06_f8da_11eb_8025_00177c601b52row1_col10\" class=\"data row1 col10\" >-0.467</td>\n",
       "                        <td id=\"T_90106f06_f8da_11eb_8025_00177c601b52row1_col11\" class=\"data row1 col11\" >0.051</td>\n",
       "            </tr>\n",
       "            <tr>\n",
       "                        <th id=\"T_90106f06_f8da_11eb_8025_00177c601b52level0_row2\" class=\"row_heading level0 row2\" >Length2</th>\n",
       "                        <td id=\"T_90106f06_f8da_11eb_8025_00177c601b52row2_col0\" class=\"data row2 col0\" >0.919</td>\n",
       "                        <td id=\"T_90106f06_f8da_11eb_8025_00177c601b52row2_col1\" class=\"data row2 col1\" >1.000</td>\n",
       "                        <td id=\"T_90106f06_f8da_11eb_8025_00177c601b52row2_col2\" class=\"data row2 col2\" >1.000</td>\n",
       "                        <td id=\"T_90106f06_f8da_11eb_8025_00177c601b52row2_col3\" class=\"data row2 col3\" >0.994</td>\n",
       "                        <td id=\"T_90106f06_f8da_11eb_8025_00177c601b52row2_col4\" class=\"data row2 col4\" >0.640</td>\n",
       "                        <td id=\"T_90106f06_f8da_11eb_8025_00177c601b52row2_col5\" class=\"data row2 col5\" >0.874</td>\n",
       "                        <td id=\"T_90106f06_f8da_11eb_8025_00177c601b52row2_col6\" class=\"data row2 col6\" >-0.206</td>\n",
       "                        <td id=\"T_90106f06_f8da_11eb_8025_00177c601b52row2_col7\" class=\"data row2 col7\" >-0.036</td>\n",
       "                        <td id=\"T_90106f06_f8da_11eb_8025_00177c601b52row2_col8\" class=\"data row2 col8\" >0.553</td>\n",
       "                        <td id=\"T_90106f06_f8da_11eb_8025_00177c601b52row2_col9\" class=\"data row2 col9\" >-0.218</td>\n",
       "                        <td id=\"T_90106f06_f8da_11eb_8025_00177c601b52row2_col10\" class=\"data row2 col10\" >-0.480</td>\n",
       "                        <td id=\"T_90106f06_f8da_11eb_8025_00177c601b52row2_col11\" class=\"data row2 col11\" >0.054</td>\n",
       "            </tr>\n",
       "            <tr>\n",
       "                        <th id=\"T_90106f06_f8da_11eb_8025_00177c601b52level0_row3\" class=\"row_heading level0 row3\" >Length3</th>\n",
       "                        <td id=\"T_90106f06_f8da_11eb_8025_00177c601b52row3_col0\" class=\"data row3 col0\" >0.923</td>\n",
       "                        <td id=\"T_90106f06_f8da_11eb_8025_00177c601b52row3_col1\" class=\"data row3 col1\" >0.992</td>\n",
       "                        <td id=\"T_90106f06_f8da_11eb_8025_00177c601b52row3_col2\" class=\"data row3 col2\" >0.994</td>\n",
       "                        <td id=\"T_90106f06_f8da_11eb_8025_00177c601b52row3_col3\" class=\"data row3 col3\" >1.000</td>\n",
       "                        <td id=\"T_90106f06_f8da_11eb_8025_00177c601b52row3_col4\" class=\"data row3 col4\" >0.703</td>\n",
       "                        <td id=\"T_90106f06_f8da_11eb_8025_00177c601b52row3_col5\" class=\"data row3 col5\" >0.879</td>\n",
       "                        <td id=\"T_90106f06_f8da_11eb_8025_00177c601b52row3_col6\" class=\"data row3 col6\" >-0.199</td>\n",
       "                        <td id=\"T_90106f06_f8da_11eb_8025_00177c601b52row3_col7\" class=\"data row3 col7\" >-0.105</td>\n",
       "                        <td id=\"T_90106f06_f8da_11eb_8025_00177c601b52row3_col8\" class=\"data row3 col8\" >0.523</td>\n",
       "                        <td id=\"T_90106f06_f8da_11eb_8025_00177c601b52row3_col9\" class=\"data row3 col9\" >-0.205</td>\n",
       "                        <td id=\"T_90106f06_f8da_11eb_8025_00177c601b52row3_col10\" class=\"data row3 col10\" >-0.488</td>\n",
       "                        <td id=\"T_90106f06_f8da_11eb_8025_00177c601b52row3_col11\" class=\"data row3 col11\" >0.053</td>\n",
       "            </tr>\n",
       "            <tr>\n",
       "                        <th id=\"T_90106f06_f8da_11eb_8025_00177c601b52level0_row4\" class=\"row_heading level0 row4\" >Height</th>\n",
       "                        <td id=\"T_90106f06_f8da_11eb_8025_00177c601b52row4_col0\" class=\"data row4 col0\" >0.724</td>\n",
       "                        <td id=\"T_90106f06_f8da_11eb_8025_00177c601b52row4_col1\" class=\"data row4 col1\" >0.625</td>\n",
       "                        <td id=\"T_90106f06_f8da_11eb_8025_00177c601b52row4_col2\" class=\"data row4 col2\" >0.640</td>\n",
       "                        <td id=\"T_90106f06_f8da_11eb_8025_00177c601b52row4_col3\" class=\"data row4 col3\" >0.703</td>\n",
       "                        <td id=\"T_90106f06_f8da_11eb_8025_00177c601b52row4_col4\" class=\"data row4 col4\" >1.000</td>\n",
       "                        <td id=\"T_90106f06_f8da_11eb_8025_00177c601b52row4_col5\" class=\"data row4 col5\" >0.793</td>\n",
       "                        <td id=\"T_90106f06_f8da_11eb_8025_00177c601b52row4_col6\" class=\"data row4 col6\" >-0.001</td>\n",
       "                        <td id=\"T_90106f06_f8da_11eb_8025_00177c601b52row4_col7\" class=\"data row4 col7\" >-0.191</td>\n",
       "                        <td id=\"T_90106f06_f8da_11eb_8025_00177c601b52row4_col8\" class=\"data row4 col8\" >-0.102</td>\n",
       "                        <td id=\"T_90106f06_f8da_11eb_8025_00177c601b52row4_col9\" class=\"data row4 col9\" >-0.202</td>\n",
       "                        <td id=\"T_90106f06_f8da_11eb_8025_00177c601b52row4_col10\" class=\"data row4 col10\" >-0.492</td>\n",
       "                        <td id=\"T_90106f06_f8da_11eb_8025_00177c601b52row4_col11\" class=\"data row4 col11\" >0.049</td>\n",
       "            </tr>\n",
       "            <tr>\n",
       "                        <th id=\"T_90106f06_f8da_11eb_8025_00177c601b52level0_row5\" class=\"row_heading level0 row5\" >Width</th>\n",
       "                        <td id=\"T_90106f06_f8da_11eb_8025_00177c601b52row5_col0\" class=\"data row5 col0\" >0.887</td>\n",
       "                        <td id=\"T_90106f06_f8da_11eb_8025_00177c601b52row5_col1\" class=\"data row5 col1\" >0.867</td>\n",
       "                        <td id=\"T_90106f06_f8da_11eb_8025_00177c601b52row5_col2\" class=\"data row5 col2\" >0.874</td>\n",
       "                        <td id=\"T_90106f06_f8da_11eb_8025_00177c601b52row5_col3\" class=\"data row5 col3\" >0.879</td>\n",
       "                        <td id=\"T_90106f06_f8da_11eb_8025_00177c601b52row5_col4\" class=\"data row5 col4\" >0.793</td>\n",
       "                        <td id=\"T_90106f06_f8da_11eb_8025_00177c601b52row5_col5\" class=\"data row5 col5\" >1.000</td>\n",
       "                        <td id=\"T_90106f06_f8da_11eb_8025_00177c601b52row5_col6\" class=\"data row5 col6\" >-0.194</td>\n",
       "                        <td id=\"T_90106f06_f8da_11eb_8025_00177c601b52row5_col7\" class=\"data row5 col7\" >0.144</td>\n",
       "                        <td id=\"T_90106f06_f8da_11eb_8025_00177c601b52row5_col8\" class=\"data row5 col8\" >0.138</td>\n",
       "                        <td id=\"T_90106f06_f8da_11eb_8025_00177c601b52row5_col9\" class=\"data row5 col9\" >-0.171</td>\n",
       "                        <td id=\"T_90106f06_f8da_11eb_8025_00177c601b52row5_col10\" class=\"data row5 col10\" >-0.569</td>\n",
       "                        <td id=\"T_90106f06_f8da_11eb_8025_00177c601b52row5_col11\" class=\"data row5 col11\" >0.124</td>\n",
       "            </tr>\n",
       "            <tr>\n",
       "                        <th id=\"T_90106f06_f8da_11eb_8025_00177c601b52level0_row6\" class=\"row_heading level0 row6\" >Species_Parkki</th>\n",
       "                        <td id=\"T_90106f06_f8da_11eb_8025_00177c601b52row6_col0\" class=\"data row6 col0\" >-0.186</td>\n",
       "                        <td id=\"T_90106f06_f8da_11eb_8025_00177c601b52row6_col1\" class=\"data row6 col1\" >-0.206</td>\n",
       "                        <td id=\"T_90106f06_f8da_11eb_8025_00177c601b52row6_col2\" class=\"data row6 col2\" >-0.206</td>\n",
       "                        <td id=\"T_90106f06_f8da_11eb_8025_00177c601b52row6_col3\" class=\"data row6 col3\" >-0.199</td>\n",
       "                        <td id=\"T_90106f06_f8da_11eb_8025_00177c601b52row6_col4\" class=\"data row6 col4\" >-0.001</td>\n",
       "                        <td id=\"T_90106f06_f8da_11eb_8025_00177c601b52row6_col5\" class=\"data row6 col5\" >-0.194</td>\n",
       "                        <td id=\"T_90106f06_f8da_11eb_8025_00177c601b52row6_col6\" class=\"data row6 col6\" >1.000</td>\n",
       "                        <td id=\"T_90106f06_f8da_11eb_8025_00177c601b52row6_col7\" class=\"data row6 col7\" >-0.201</td>\n",
       "                        <td id=\"T_90106f06_f8da_11eb_8025_00177c601b52row6_col8\" class=\"data row6 col8\" >-0.094</td>\n",
       "                        <td id=\"T_90106f06_f8da_11eb_8025_00177c601b52row6_col9\" class=\"data row6 col9\" >-0.103</td>\n",
       "                        <td id=\"T_90106f06_f8da_11eb_8025_00177c601b52row6_col10\" class=\"data row6 col10\" >-0.085</td>\n",
       "                        <td id=\"T_90106f06_f8da_11eb_8025_00177c601b52row6_col11\" class=\"data row6 col11\" >-0.054</td>\n",
       "            </tr>\n",
       "            <tr>\n",
       "                        <th id=\"T_90106f06_f8da_11eb_8025_00177c601b52level0_row7\" class=\"row_heading level0 row7\" >Species_Perch</th>\n",
       "                        <td id=\"T_90106f06_f8da_11eb_8025_00177c601b52row7_col0\" class=\"data row7 col0\" >-0.033</td>\n",
       "                        <td id=\"T_90106f06_f8da_11eb_8025_00177c601b52row7_col1\" class=\"data row7 col1\" >-0.038</td>\n",
       "                        <td id=\"T_90106f06_f8da_11eb_8025_00177c601b52row7_col2\" class=\"data row7 col2\" >-0.036</td>\n",
       "                        <td id=\"T_90106f06_f8da_11eb_8025_00177c601b52row7_col3\" class=\"data row7 col3\" >-0.105</td>\n",
       "                        <td id=\"T_90106f06_f8da_11eb_8025_00177c601b52row7_col4\" class=\"data row7 col4\" >-0.191</td>\n",
       "                        <td id=\"T_90106f06_f8da_11eb_8025_00177c601b52row7_col5\" class=\"data row7 col5\" >0.144</td>\n",
       "                        <td id=\"T_90106f06_f8da_11eb_8025_00177c601b52row7_col6\" class=\"data row7 col6\" >-0.201</td>\n",
       "                        <td id=\"T_90106f06_f8da_11eb_8025_00177c601b52row7_col7\" class=\"data row7 col7\" >1.000</td>\n",
       "                        <td id=\"T_90106f06_f8da_11eb_8025_00177c601b52row7_col8\" class=\"data row7 col8\" >-0.255</td>\n",
       "                        <td id=\"T_90106f06_f8da_11eb_8025_00177c601b52row7_col9\" class=\"data row7 col9\" >-0.280</td>\n",
       "                        <td id=\"T_90106f06_f8da_11eb_8025_00177c601b52row7_col10\" class=\"data row7 col10\" >-0.229</td>\n",
       "                        <td id=\"T_90106f06_f8da_11eb_8025_00177c601b52row7_col11\" class=\"data row7 col11\" >-0.146</td>\n",
       "            </tr>\n",
       "            <tr>\n",
       "                        <th id=\"T_90106f06_f8da_11eb_8025_00177c601b52level0_row8\" class=\"row_heading level0 row8\" >Species_Pike</th>\n",
       "                        <td id=\"T_90106f06_f8da_11eb_8025_00177c601b52row8_col0\" class=\"data row8 col0\" >0.311</td>\n",
       "                        <td id=\"T_90106f06_f8da_11eb_8025_00177c601b52row8_col1\" class=\"data row8 col1\" >0.564</td>\n",
       "                        <td id=\"T_90106f06_f8da_11eb_8025_00177c601b52row8_col2\" class=\"data row8 col2\" >0.553</td>\n",
       "                        <td id=\"T_90106f06_f8da_11eb_8025_00177c601b52row8_col3\" class=\"data row8 col3\" >0.523</td>\n",
       "                        <td id=\"T_90106f06_f8da_11eb_8025_00177c601b52row8_col4\" class=\"data row8 col4\" >-0.102</td>\n",
       "                        <td id=\"T_90106f06_f8da_11eb_8025_00177c601b52row8_col5\" class=\"data row8 col5\" >0.138</td>\n",
       "                        <td id=\"T_90106f06_f8da_11eb_8025_00177c601b52row8_col6\" class=\"data row8 col6\" >-0.094</td>\n",
       "                        <td id=\"T_90106f06_f8da_11eb_8025_00177c601b52row8_col7\" class=\"data row8 col7\" >-0.255</td>\n",
       "                        <td id=\"T_90106f06_f8da_11eb_8025_00177c601b52row8_col8\" class=\"data row8 col8\" >1.000</td>\n",
       "                        <td id=\"T_90106f06_f8da_11eb_8025_00177c601b52row8_col9\" class=\"data row8 col9\" >-0.131</td>\n",
       "                        <td id=\"T_90106f06_f8da_11eb_8025_00177c601b52row8_col10\" class=\"data row8 col10\" >-0.108</td>\n",
       "                        <td id=\"T_90106f06_f8da_11eb_8025_00177c601b52row8_col11\" class=\"data row8 col11\" >-0.069</td>\n",
       "            </tr>\n",
       "            <tr>\n",
       "                        <th id=\"T_90106f06_f8da_11eb_8025_00177c601b52level0_row9\" class=\"row_heading level0 row9\" >Species_Roach</th>\n",
       "                        <td id=\"T_90106f06_f8da_11eb_8025_00177c601b52row9_col0\" class=\"data row9 col0\" >-0.262</td>\n",
       "                        <td id=\"T_90106f06_f8da_11eb_8025_00177c601b52row9_col1\" class=\"data row9 col1\" >-0.213</td>\n",
       "                        <td id=\"T_90106f06_f8da_11eb_8025_00177c601b52row9_col2\" class=\"data row9 col2\" >-0.218</td>\n",
       "                        <td id=\"T_90106f06_f8da_11eb_8025_00177c601b52row9_col3\" class=\"data row9 col3\" >-0.205</td>\n",
       "                        <td id=\"T_90106f06_f8da_11eb_8025_00177c601b52row9_col4\" class=\"data row9 col4\" >-0.202</td>\n",
       "                        <td id=\"T_90106f06_f8da_11eb_8025_00177c601b52row9_col5\" class=\"data row9 col5\" >-0.171</td>\n",
       "                        <td id=\"T_90106f06_f8da_11eb_8025_00177c601b52row9_col6\" class=\"data row9 col6\" >-0.103</td>\n",
       "                        <td id=\"T_90106f06_f8da_11eb_8025_00177c601b52row9_col7\" class=\"data row9 col7\" >-0.280</td>\n",
       "                        <td id=\"T_90106f06_f8da_11eb_8025_00177c601b52row9_col8\" class=\"data row9 col8\" >-0.131</td>\n",
       "                        <td id=\"T_90106f06_f8da_11eb_8025_00177c601b52row9_col9\" class=\"data row9 col9\" >1.000</td>\n",
       "                        <td id=\"T_90106f06_f8da_11eb_8025_00177c601b52row9_col10\" class=\"data row9 col10\" >-0.118</td>\n",
       "                        <td id=\"T_90106f06_f8da_11eb_8025_00177c601b52row9_col11\" class=\"data row9 col11\" >-0.075</td>\n",
       "            </tr>\n",
       "            <tr>\n",
       "                        <th id=\"T_90106f06_f8da_11eb_8025_00177c601b52level0_row10\" class=\"row_heading level0 row10\" >Species_Smelt</th>\n",
       "                        <td id=\"T_90106f06_f8da_11eb_8025_00177c601b52row10_col0\" class=\"data row10 col0\" >-0.337</td>\n",
       "                        <td id=\"T_90106f06_f8da_11eb_8025_00177c601b52row10_col1\" class=\"data row10 col1\" >-0.467</td>\n",
       "                        <td id=\"T_90106f06_f8da_11eb_8025_00177c601b52row10_col2\" class=\"data row10 col2\" >-0.480</td>\n",
       "                        <td id=\"T_90106f06_f8da_11eb_8025_00177c601b52row10_col3\" class=\"data row10 col3\" >-0.488</td>\n",
       "                        <td id=\"T_90106f06_f8da_11eb_8025_00177c601b52row10_col4\" class=\"data row10 col4\" >-0.492</td>\n",
       "                        <td id=\"T_90106f06_f8da_11eb_8025_00177c601b52row10_col5\" class=\"data row10 col5\" >-0.569</td>\n",
       "                        <td id=\"T_90106f06_f8da_11eb_8025_00177c601b52row10_col6\" class=\"data row10 col6\" >-0.085</td>\n",
       "                        <td id=\"T_90106f06_f8da_11eb_8025_00177c601b52row10_col7\" class=\"data row10 col7\" >-0.229</td>\n",
       "                        <td id=\"T_90106f06_f8da_11eb_8025_00177c601b52row10_col8\" class=\"data row10 col8\" >-0.108</td>\n",
       "                        <td id=\"T_90106f06_f8da_11eb_8025_00177c601b52row10_col9\" class=\"data row10 col9\" >-0.118</td>\n",
       "                        <td id=\"T_90106f06_f8da_11eb_8025_00177c601b52row10_col10\" class=\"data row10 col10\" >1.000</td>\n",
       "                        <td id=\"T_90106f06_f8da_11eb_8025_00177c601b52row10_col11\" class=\"data row10 col11\" >-0.062</td>\n",
       "            </tr>\n",
       "            <tr>\n",
       "                        <th id=\"T_90106f06_f8da_11eb_8025_00177c601b52level0_row11\" class=\"row_heading level0 row11\" >Species_Whitefish</th>\n",
       "                        <td id=\"T_90106f06_f8da_11eb_8025_00177c601b52row11_col0\" class=\"data row11 col0\" >0.074</td>\n",
       "                        <td id=\"T_90106f06_f8da_11eb_8025_00177c601b52row11_col1\" class=\"data row11 col1\" >0.051</td>\n",
       "                        <td id=\"T_90106f06_f8da_11eb_8025_00177c601b52row11_col2\" class=\"data row11 col2\" >0.054</td>\n",
       "                        <td id=\"T_90106f06_f8da_11eb_8025_00177c601b52row11_col3\" class=\"data row11 col3\" >0.053</td>\n",
       "                        <td id=\"T_90106f06_f8da_11eb_8025_00177c601b52row11_col4\" class=\"data row11 col4\" >0.049</td>\n",
       "                        <td id=\"T_90106f06_f8da_11eb_8025_00177c601b52row11_col5\" class=\"data row11 col5\" >0.124</td>\n",
       "                        <td id=\"T_90106f06_f8da_11eb_8025_00177c601b52row11_col6\" class=\"data row11 col6\" >-0.054</td>\n",
       "                        <td id=\"T_90106f06_f8da_11eb_8025_00177c601b52row11_col7\" class=\"data row11 col7\" >-0.146</td>\n",
       "                        <td id=\"T_90106f06_f8da_11eb_8025_00177c601b52row11_col8\" class=\"data row11 col8\" >-0.069</td>\n",
       "                        <td id=\"T_90106f06_f8da_11eb_8025_00177c601b52row11_col9\" class=\"data row11 col9\" >-0.075</td>\n",
       "                        <td id=\"T_90106f06_f8da_11eb_8025_00177c601b52row11_col10\" class=\"data row11 col10\" >-0.062</td>\n",
       "                        <td id=\"T_90106f06_f8da_11eb_8025_00177c601b52row11_col11\" class=\"data row11 col11\" >1.000</td>\n",
       "            </tr>\n",
       "    </tbody></table>"
      ],
      "text/plain": [
       "<pandas.io.formats.style.Styler at 0xf91e848>"
      ]
     },
     "execution_count": 69,
     "metadata": {},
     "output_type": "execute_result"
    }
   ],
   "source": [
    "pd.set_option(\"precision\",3)\n",
    "corr.style.background_gradient(cmap=\"coolwarm\")"
   ]
  },
  {
   "cell_type": "code",
   "execution_count": null,
   "metadata": {},
   "outputs": [],
   "source": []
  },
  {
   "cell_type": "code",
   "execution_count": 70,
   "metadata": {},
   "outputs": [
    {
     "data": {
      "text/plain": [
       "[]"
      ]
     },
     "execution_count": 70,
     "metadata": {},
     "output_type": "execute_result"
    },
    {
     "data": {
      "image/png": "[encoded data removed]",
      "text/plain": [
       "<Figure size 432x288 with 1 Axes>"
      ]
     },
     "metadata": {
      "needs_background": "light"
     },
     "output_type": "display_data"
    }
   ],
   "source": [
    "\n",
    "plt.hist(fish1['Weight'], bins=\"auto\")\n",
    "#sns.distplot(fish1['Weight'])\n",
    "plt.hist(fish1['Weight'], bins=30)\n",
    "plt.plot()"
   ]
  },
  {
   "cell_type": "code",
   "execution_count": 71,
   "metadata": {},
   "outputs": [
    {
     "data": {
      "text/plain": [
       "[]"
      ]
     },
     "execution_count": 71,
     "metadata": {},
     "output_type": "execute_result"
    },
    {
     "data": {
      "image/png": "[encoded data removed]",
      "text/plain": [
       "<Figure size 432x288 with 1 Axes>"
      ]
     },
     "metadata": {
      "needs_background": "light"
     },
     "output_type": "display_data"
    }
   ],
   "source": [
    "sns.distplot(fish1['Weight'])\n",
    "plt.plot()"
   ]
  },
  {
   "cell_type": "code",
   "execution_count": 85,
   "metadata": {},
   "outputs": [],
   "source": [
    "fish1['Weight_log']=np.log1p(fish1[\"Weight\"])\n",
    "fish1['sqrt_Weight_log']=np.sqrt(fish1[\"Weight\"])"
   ]
  },
  {
   "cell_type": "code",
   "execution_count": null,
   "metadata": {},
   "outputs": [],
   "source": []
  },
  {
   "cell_type": "code",
   "execution_count": 86,
   "metadata": {},
   "outputs": [
    {
     "data": {
      "text/plain": [
       "[]"
      ]
     },
     "execution_count": 86,
     "metadata": {},
     "output_type": "execute_result"
    },
    {
     "data": {
      "image/png": "[encoded data removed]",
      "text/plain": [
       "<Figure size 432x288 with 1 Axes>"
      ]
     },
     "metadata": {
      "needs_background": "light"
     },
     "output_type": "display_data"
    }
   ],
   "source": [
    "sns.distplot(fish1['Weight_log'], bins=10)  \n",
    "plt.plot()"
   ]
  },
  {
   "cell_type": "code",
   "execution_count": 76,
   "metadata": {},
   "outputs": [
    {
     "data": {
      "text/plain": [
       "[]"
      ]
     },
     "execution_count": 76,
     "metadata": {},
     "output_type": "execute_result"
    },
    {
     "data": {
      "image/png": "[encoded data removed]",
      "text/plain": [
       "<Figure size 432x288 with 1 Axes>"
      ]
     },
     "metadata": {
      "needs_background": "light"
     },
     "output_type": "display_data"
    }
   ],
   "source": [
    "plt.hist(fish1['sqrt_Weight_log'], bins=\"auto\")\n",
    "plt.plot()"
   ]
  },
  {
   "cell_type": "code",
   "execution_count": null,
   "metadata": {},
   "outputs": [],
   "source": []
  },
  {
   "cell_type": "code",
   "execution_count": 77,
   "metadata": {},
   "outputs": [
    {
     "data": {
      "text/plain": [
       "(0.904837429523468, 1.1928044330034027e-08)"
      ]
     },
     "execution_count": 77,
     "metadata": {},
     "output_type": "execute_result"
    }
   ],
   "source": [
    "shapiro(fish1[\"Weight_log\"])     ## Ho :Data is Normal ; Ha : Data is not normal.  By shapiro Test"
   ]
  },
  {
   "cell_type": "code",
   "execution_count": 87,
   "metadata": {},
   "outputs": [
    {
     "name": "stdout",
     "output_type": "stream",
     "text": [
      "We fail to accept Null Hypo as p value 1.1928044330034027e-08 is very low\n"
     ]
    }
   ],
   "source": [
    "stat, pval1=shapiro(fish1[\"Weight_log\"]) \n",
    "if pval1<0.05:\n",
    "    print(\"We fail to accept Null Hypo as p value {} is very low\".format(pval1))\n",
    "else:\n",
    "    print(\"We accept Null Hypo as p value {} is very low\".format(pval1))"
   ]
  },
  {
   "cell_type": "code",
   "execution_count": 80,
   "metadata": {},
   "outputs": [
    {
     "name": "stdout",
     "output_type": "stream",
     "text": [
      "We fail to accept Null Hypo as p value 1.1928044330034027e-08 is very low\n"
     ]
    }
   ],
   "source": [
    "stats,pvalue=shapiro(fish1[\"sqrt_Weight_log\"]) \n",
    "if pval1<0.05:\n",
    "    print(\"We fail to accept Null Hypo as p value {} is very low\".format(pval1))\n",
    "else:\n",
    "    print(\"We accept Null Hypo as p value {} is very low\".format(pval1))"
   ]
  },
  {
   "cell_type": "code",
   "execution_count": null,
   "metadata": {},
   "outputs": [],
   "source": []
  },
  {
   "cell_type": "code",
   "execution_count": null,
   "metadata": {},
   "outputs": [],
   "source": [
    "## X_train,y_train= Dependent Variable,independent Variable\n",
    "##X_test,y_test= Dependent Variable,independent Variable"
   ]
  },
  {
   "cell_type": "code",
   "execution_count": 108,
   "metadata": {},
   "outputs": [
    {
     "data": {
      "text/plain": [
       "(159, 14)"
      ]
     },
     "execution_count": 108,
     "metadata": {},
     "output_type": "execute_result"
    }
   ],
   "source": [
    "fish1.shape"
   ]
  },
  {
   "cell_type": "code",
   "execution_count": 88,
   "metadata": {},
   "outputs": [
    {
     "data": {
      "text/plain": [
       "Index(['Weight', 'Length1', 'Length2', 'Length3', 'Height', 'Width',\n",
       "       'Species_Parkki', 'Species_Perch', 'Species_Pike', 'Species_Roach',\n",
       "       'Species_Smelt', 'Species_Whitefish', 'Weight_log', 'sqrt_Weight_log'],\n",
       "      dtype='object')"
      ]
     },
     "execution_count": 88,
     "metadata": {},
     "output_type": "execute_result"
    }
   ],
   "source": [
    "fish1.columns"
   ]
  },
  {
   "cell_type": "code",
   "execution_count": 130,
   "metadata": {},
   "outputs": [],
   "source": [
    "y=fish1['Weight_log']\n",
    "x=fish1[['Length1', 'Length2', 'Length3', 'Height', 'Width',\n",
    "       'Species_Parkki', 'Species_Perch', 'Species_Pike', 'Species_Roach',\n",
    "       'Species_Smelt', 'Species_Whitefish','sqrt_Weight_log']]"
   ]
  },
  {
   "cell_type": "code",
   "execution_count": 131,
   "metadata": {},
   "outputs": [],
   "source": [
    "X_train,X_test, y_train, y_test=train_test_split(x,y, test_size=.20, random_state=4511) "
   ]
  },
  {
   "cell_type": "code",
   "execution_count": 132,
   "metadata": {},
   "outputs": [
    {
     "data": {
      "text/plain": [
       "(127, 12)"
      ]
     },
     "execution_count": 132,
     "metadata": {},
     "output_type": "execute_result"
    }
   ],
   "source": [
    "X_train.shape"
   ]
  },
  {
   "cell_type": "code",
   "execution_count": 133,
   "metadata": {},
   "outputs": [
    {
     "data": {
      "text/plain": [
       "(32, 12)"
      ]
     },
     "execution_count": 133,
     "metadata": {},
     "output_type": "execute_result"
    }
   ],
   "source": [
    "X_test.shape"
   ]
  },
  {
   "cell_type": "code",
   "execution_count": 134,
   "metadata": {},
   "outputs": [
    {
     "data": {
      "text/plain": [
       "1      5.673\n",
       "116    6.804\n",
       "47     5.081\n",
       "146    2.140\n",
       "144    7.409\n",
       "       ...  \n",
       "61     4.025\n",
       "51     5.198\n",
       "94     5.017\n",
       "120    6.804\n",
       "12     6.217\n",
       "Name: Weight_log, Length: 127, dtype: float64"
      ]
     },
     "execution_count": 134,
     "metadata": {},
     "output_type": "execute_result"
    }
   ],
   "source": [
    "y_train"
   ]
  },
  {
   "cell_type": "code",
   "execution_count": 135,
   "metadata": {},
   "outputs": [],
   "source": [
    "Lin= LinearRegression() "
   ]
  },
  {
   "cell_type": "code",
   "execution_count": 136,
   "metadata": {},
   "outputs": [
    {
     "data": {
      "text/plain": [
       "LinearRegression(copy_X=True, fit_intercept=True, n_jobs=None, normalize=False)"
      ]
     },
     "execution_count": 136,
     "metadata": {},
     "output_type": "execute_result"
    }
   ],
   "source": [
    "Lin.fit(X_train,y_train)  # We are training our model"
   ]
  },
  {
   "cell_type": "code",
   "execution_count": 137,
   "metadata": {},
   "outputs": [],
   "source": [
    "#predict\n",
    "y_train_pred=Lin.predict(X_train)"
   ]
  },
  {
   "cell_type": "code",
   "execution_count": 138,
   "metadata": {},
   "outputs": [
    {
     "data": {
      "text/plain": [
       "array([5.66154332, 6.80841727, 4.99099675, 2.30321672, 7.91656421,\n",
       "       6.00073607, 4.0106706 , 5.93201678, 5.54071653, 6.42980482,\n",
       "       6.06740173, 4.25638127, 4.42362449, 6.3755624 , 6.95519575,\n",
       "       2.28578244, 5.39633838, 5.90389045, 6.47282339, 6.24765413,\n",
       "       3.87704574, 6.34408237, 6.51854968, 6.64664769, 4.83089988,\n",
       "       7.24563507, 2.37501237, 4.8370891 , 4.67043813, 5.03311825,\n",
       "       6.57559317, 6.84472163, 5.16679357, 7.22289638, 7.23717544,\n",
       "       2.44223591, 4.95744531, 4.91007152, 6.3172529 , 7.32091579,\n",
       "       5.64000364, 6.28815961, 4.50786629, 4.76507174, 6.42307515,\n",
       "       6.96983994, 5.10844563, 6.18602522, 6.55710762, 6.24065644,\n",
       "       5.54448413, 7.39942994, 6.94669002, 2.45076346, 2.41617057,\n",
       "       5.81455555, 5.06622805, 4.92797846, 7.06961944, 6.88653181,\n",
       "       2.70844655, 6.16077048, 5.49485823, 5.57111989, 5.61565233,\n",
       "       4.76533933, 2.38621658, 6.93779584, 6.1758217 , 4.91871501,\n",
       "       6.4086221 , 6.48920884, 5.36125601, 4.56482343, 6.98653268,\n",
       "       6.11035432, 5.71728726, 5.52164986, 4.40616836, 4.5012656 ,\n",
       "       6.4369968 , 5.32824132, 7.23319831, 4.99026448, 2.39689201,\n",
       "       4.90300095, 3.32920654, 4.46383103, 6.67918078, 4.63656253,\n",
       "       4.91181599, 5.65900005, 6.51086598, 4.98719426, 5.40756067,\n",
       "       5.13228362, 5.42503939, 5.77966954, 6.7214216 , 5.31342516,\n",
       "       4.5652306 , 6.12552893, 4.87523515, 6.29830063, 4.70984651,\n",
       "       6.74463791, 6.59722835, 2.44469563, 5.49935298, 5.95891717,\n",
       "       7.34020665, 6.6081529 , 6.49022098, 5.54603291, 6.9624082 ,\n",
       "       5.19314025, 6.28573555, 5.1232674 , 6.07676098, 5.21785737,\n",
       "       4.76521159, 4.2962101 , 4.28859368, 5.23976494, 4.78987612,\n",
       "       6.79972994, 6.02227459])"
      ]
     },
     "execution_count": 138,
     "metadata": {},
     "output_type": "execute_result"
    }
   ],
   "source": [
    "y_train_pred"
   ]
  },
  {
   "cell_type": "code",
   "execution_count": 139,
   "metadata": {},
   "outputs": [
    {
     "name": "stdout",
     "output_type": "stream",
     "text": [
      "MSE 0.04155483169659213\n"
     ]
    }
   ],
   "source": [
    "print(\"MSE\",np.mean(np.square(y_train-y_train_pred))) "
   ]
  },
  {
   "cell_type": "code",
   "execution_count": 141,
   "metadata": {},
   "outputs": [
    {
     "name": "stdout",
     "output_type": "stream",
     "text": [
      "RMSE 0.20385002255725196\n"
     ]
    }
   ],
   "source": [
    "print(\"RMSE\",np.sqrt(np.mean(np.square(y_train-y_train_pred))))  "
   ]
  },
  {
   "cell_type": "code",
   "execution_count": null,
   "metadata": {},
   "outputs": [],
   "source": [
    "##now for test"
   ]
  },
  {
   "cell_type": "code",
   "execution_count": 143,
   "metadata": {},
   "outputs": [],
   "source": [
    "#predict about test data\n",
    "y_test_pred=Lin.predict(X_test)"
   ]
  },
  {
   "cell_type": "code",
   "execution_count": 144,
   "metadata": {},
   "outputs": [
    {
     "name": "stdout",
     "output_type": "stream",
     "text": [
      "MSE 0.8385768299549334\n"
     ]
    }
   ],
   "source": [
    "print(\"MSE\",np.mean(np.square(y_test-y_test_pred)))   ##mean square error"
   ]
  },
  {
   "cell_type": "code",
   "execution_count": 145,
   "metadata": {},
   "outputs": [
    {
     "name": "stdout",
     "output_type": "stream",
     "text": [
      "RMSE 0.9157384069454187\n"
     ]
    }
   ],
   "source": [
    "print(\"RMSE\",np.sqrt(np.mean(np.square(y_test-y_test_pred))))  ##root mean square error"
   ]
  },
  {
   "cell_type": "code",
   "execution_count": 148,
   "metadata": {},
   "outputs": [
    {
     "data": {
      "text/plain": [
       "2.2666871191303737"
      ]
     },
     "execution_count": 148,
     "metadata": {},
     "output_type": "execute_result"
    }
   ],
   "source": [
    "Lin.intercept_   ##C value"
   ]
  },
  {
   "cell_type": "code",
   "execution_count": 150,
   "metadata": {},
   "outputs": [
    {
     "data": {
      "text/plain": [
       "array([ 0.17818054, -0.14402349,  0.04604952,  0.08729216,  0.20941784,\n",
       "        0.11595517,  0.12588696, -0.12941599,  0.08687847, -1.09840568,\n",
       "        0.35500141, -0.03062233])"
      ]
     },
     "execution_count": 150,
     "metadata": {},
     "output_type": "execute_result"
    }
   ],
   "source": [
    "Lin.coef_    ## m value "
   ]
  },
  {
   "cell_type": "code",
   "execution_count": null,
   "metadata": {},
   "outputs": [],
   "source": []
  },
  {
   "cell_type": "code",
   "execution_count": null,
   "metadata": {},
   "outputs": [],
   "source": []
  },
  {
   "cell_type": "code",
   "execution_count": null,
   "metadata": {},
   "outputs": [],
   "source": []
  },
  {
   "cell_type": "code",
   "execution_count": null,
   "metadata": {},
   "outputs": [],
   "source": []
  },
  {
   "cell_type": "code",
   "execution_count": null,
   "metadata": {},
   "outputs": [],
   "source": []
  }
 ],
 "metadata": {
  "kernelspec": {
   "display_name": "Python 3",
   "language": "python",
   "name": "python3"
  },
  "language_info": {
   "codemirror_mode": {
    "name": "ipython",
    "version": 3
   },
   "file_extension": ".py",
   "mimetype": "text/x-python",
   "name": "python",
   "nbconvert_exporter": "python",
   "pygments_lexer": "ipython3",
   "version": "3.7.6"
  }
 },
 "nbformat": 4,
 "nbformat_minor": 4
}
